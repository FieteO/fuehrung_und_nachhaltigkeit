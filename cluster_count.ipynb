{
 "cells": [
  {
   "cell_type": "code",
   "execution_count": 13,
   "metadata": {},
   "outputs": [],
   "source": [
    "import pandas as pd"
   ]
  },
  {
   "cell_type": "markdown",
   "metadata": {},
   "source": [
    "# Frequency by SDG word cluster\n",
    "Using [osdg-mapping](https://github.com/osdg-ai/osdg-mapping)"
   ]
  },
  {
   "cell_type": "markdown",
   "metadata": {},
   "source": [
    "## Read in the data"
   ]
  },
  {
   "cell_type": "markdown",
   "metadata": {},
   "source": [
    "### Reports"
   ]
  },
  {
   "cell_type": "code",
   "execution_count": 45,
   "metadata": {},
   "outputs": [
    {
     "data": {
      "text/html": [
       "<div>\n",
       "<style scoped>\n",
       "    .dataframe tbody tr th:only-of-type {\n",
       "        vertical-align: middle;\n",
       "    }\n",
       "\n",
       "    .dataframe tbody tr th {\n",
       "        vertical-align: top;\n",
       "    }\n",
       "\n",
       "    .dataframe thead th {\n",
       "        text-align: right;\n",
       "    }\n",
       "</style>\n",
       "<table border=\"1\" class=\"dataframe\">\n",
       "  <thead>\n",
       "    <tr style=\"text-align: right;\">\n",
       "      <th></th>\n",
       "      <th>filepath</th>\n",
       "      <th>lang</th>\n",
       "      <th>text</th>\n",
       "      <th>number_of_pages</th>\n",
       "    </tr>\n",
       "  </thead>\n",
       "  <tbody>\n",
       "    <tr>\n",
       "      <th>0</th>\n",
       "      <td>./reports/scraped/full/siemens-energy.pdf</td>\n",
       "      <td>eng</td>\n",
       "      <td>SIEMENS\\nClaleigen4\\n\\nSustainability Report 2...</td>\n",
       "      <td>80</td>\n",
       "    </tr>\n",
       "    <tr>\n",
       "      <th>1</th>\n",
       "      <td>./reports/scraped/full/adidas-group.pdf</td>\n",
       "      <td>eng</td>\n",
       "      <td>\\n\\nPV p) | py). t)\\nSUS\\nds\\nREPORT\\n\\n \\n\\n...</td>\n",
       "      <td>84</td>\n",
       "    </tr>\n",
       "  </tbody>\n",
       "</table>\n",
       "</div>"
      ],
      "text/plain": [
       "                                    filepath lang  \\\n",
       "0  ./reports/scraped/full/siemens-energy.pdf  eng   \n",
       "1    ./reports/scraped/full/adidas-group.pdf  eng   \n",
       "\n",
       "                                                text  number_of_pages  \n",
       "0  SIEMENS\\nClaleigen4\\n\\nSustainability Report 2...               80  \n",
       "1   \\n\\nPV p) | py). t)\\nSUS\\nds\\nREPORT\\n\\n \\n\\n...               84  "
      ]
     },
     "execution_count": 45,
     "metadata": {},
     "output_type": "execute_result"
    }
   ],
   "source": [
    "reports = pd.read_csv('reports.csv', index_col=0)\n",
    "reports.head()"
   ]
  },
  {
   "cell_type": "markdown",
   "metadata": {},
   "source": [
    "### [OSDG Ontology](https://github.com/osdg-ai/osdg-mapping)"
   ]
  },
  {
   "cell_type": "code",
   "execution_count": 46,
   "metadata": {},
   "outputs": [
    {
     "data": {
      "text/html": [
       "<div>\n",
       "<style scoped>\n",
       "    .dataframe tbody tr th:only-of-type {\n",
       "        vertical-align: middle;\n",
       "    }\n",
       "\n",
       "    .dataframe tbody tr th {\n",
       "        vertical-align: top;\n",
       "    }\n",
       "\n",
       "    .dataframe thead th {\n",
       "        text-align: right;\n",
       "    }\n",
       "</style>\n",
       "<table border=\"1\" class=\"dataframe\">\n",
       "  <thead>\n",
       "    <tr style=\"text-align: right;\">\n",
       "      <th></th>\n",
       "      <th>Unnamed: 0</th>\n",
       "      <th>SDG label</th>\n",
       "      <th>FOS-ID</th>\n",
       "      <th>FOS-Name</th>\n",
       "      <th>Link to MAG</th>\n",
       "    </tr>\n",
       "  </thead>\n",
       "  <tbody>\n",
       "    <tr>\n",
       "      <th>0</th>\n",
       "      <td>0</td>\n",
       "      <td>SDG_1</td>\n",
       "      <td>527821871</td>\n",
       "      <td>Access control</td>\n",
       "      <td>https://academic.microsoft.com/topic/527821871</td>\n",
       "    </tr>\n",
       "    <tr>\n",
       "      <th>1</th>\n",
       "      <td>1</td>\n",
       "      <td>SDG_1</td>\n",
       "      <td>2910993999</td>\n",
       "      <td>Anti-poverty program</td>\n",
       "      <td>https://academic.microsoft.com/topic/2910993999</td>\n",
       "    </tr>\n",
       "    <tr>\n",
       "      <th>2</th>\n",
       "      <td>2</td>\n",
       "      <td>SDG_1</td>\n",
       "      <td>2778151340</td>\n",
       "      <td>Asset poverty</td>\n",
       "      <td>https://academic.microsoft.com/topic/2778151340</td>\n",
       "    </tr>\n",
       "    <tr>\n",
       "      <th>3</th>\n",
       "      <td>3</td>\n",
       "      <td>SDG_1</td>\n",
       "      <td>196777733</td>\n",
       "      <td>Basic needs</td>\n",
       "      <td>https://academic.microsoft.com/topic/196777733</td>\n",
       "    </tr>\n",
       "    <tr>\n",
       "      <th>4</th>\n",
       "      <td>4</td>\n",
       "      <td>SDG_1</td>\n",
       "      <td>178511221</td>\n",
       "      <td>Basic service</td>\n",
       "      <td>https://academic.microsoft.com/topic/178511221</td>\n",
       "    </tr>\n",
       "  </tbody>\n",
       "</table>\n",
       "</div>"
      ],
      "text/plain": [
       "   Unnamed: 0 SDG label      FOS-ID              FOS-Name  \\\n",
       "0           0     SDG_1   527821871        Access control   \n",
       "1           1     SDG_1  2910993999  Anti-poverty program   \n",
       "2           2     SDG_1  2778151340         Asset poverty   \n",
       "3           3     SDG_1   196777733           Basic needs   \n",
       "4           4     SDG_1   178511221         Basic service   \n",
       "\n",
       "                                       Link to MAG  \n",
       "0   https://academic.microsoft.com/topic/527821871  \n",
       "1  https://academic.microsoft.com/topic/2910993999  \n",
       "2  https://academic.microsoft.com/topic/2778151340  \n",
       "3   https://academic.microsoft.com/topic/196777733  \n",
       "4   https://academic.microsoft.com/topic/178511221  "
      ]
     },
     "execution_count": 46,
     "metadata": {},
     "output_type": "execute_result"
    }
   ],
   "source": [
    "ontology = pd.read_csv('OSDG-Ontology.csv')\n",
    "ontology.head()"
   ]
  },
  {
   "cell_type": "markdown",
   "metadata": {},
   "source": [
    "#### Use more Python friendly labels"
   ]
  },
  {
   "cell_type": "code",
   "execution_count": 47,
   "metadata": {},
   "outputs": [
    {
     "data": {
      "text/html": [
       "<div>\n",
       "<style scoped>\n",
       "    .dataframe tbody tr th:only-of-type {\n",
       "        vertical-align: middle;\n",
       "    }\n",
       "\n",
       "    .dataframe tbody tr th {\n",
       "        vertical-align: top;\n",
       "    }\n",
       "\n",
       "    .dataframe thead th {\n",
       "        text-align: right;\n",
       "    }\n",
       "</style>\n",
       "<table border=\"1\" class=\"dataframe\">\n",
       "  <thead>\n",
       "    <tr style=\"text-align: right;\">\n",
       "      <th></th>\n",
       "      <th>Unnamed: 0</th>\n",
       "      <th>sdg_label</th>\n",
       "      <th>fos_id</th>\n",
       "      <th>fos_name</th>\n",
       "      <th>link_to_mag</th>\n",
       "    </tr>\n",
       "  </thead>\n",
       "  <tbody>\n",
       "    <tr>\n",
       "      <th>0</th>\n",
       "      <td>0</td>\n",
       "      <td>SDG_1</td>\n",
       "      <td>527821871</td>\n",
       "      <td>access control</td>\n",
       "      <td>https://academic.microsoft.com/topic/527821871</td>\n",
       "    </tr>\n",
       "    <tr>\n",
       "      <th>1</th>\n",
       "      <td>1</td>\n",
       "      <td>SDG_1</td>\n",
       "      <td>2910993999</td>\n",
       "      <td>anti-poverty program</td>\n",
       "      <td>https://academic.microsoft.com/topic/2910993999</td>\n",
       "    </tr>\n",
       "    <tr>\n",
       "      <th>2</th>\n",
       "      <td>2</td>\n",
       "      <td>SDG_1</td>\n",
       "      <td>2778151340</td>\n",
       "      <td>asset poverty</td>\n",
       "      <td>https://academic.microsoft.com/topic/2778151340</td>\n",
       "    </tr>\n",
       "    <tr>\n",
       "      <th>3</th>\n",
       "      <td>3</td>\n",
       "      <td>SDG_1</td>\n",
       "      <td>196777733</td>\n",
       "      <td>basic needs</td>\n",
       "      <td>https://academic.microsoft.com/topic/196777733</td>\n",
       "    </tr>\n",
       "    <tr>\n",
       "      <th>4</th>\n",
       "      <td>4</td>\n",
       "      <td>SDG_1</td>\n",
       "      <td>178511221</td>\n",
       "      <td>basic service</td>\n",
       "      <td>https://academic.microsoft.com/topic/178511221</td>\n",
       "    </tr>\n",
       "  </tbody>\n",
       "</table>\n",
       "</div>"
      ],
      "text/plain": [
       "   Unnamed: 0 sdg_label      fos_id              fos_name  \\\n",
       "0           0     SDG_1   527821871        access control   \n",
       "1           1     SDG_1  2910993999  anti-poverty program   \n",
       "2           2     SDG_1  2778151340         asset poverty   \n",
       "3           3     SDG_1   196777733           basic needs   \n",
       "4           4     SDG_1   178511221         basic service   \n",
       "\n",
       "                                       link_to_mag  \n",
       "0   https://academic.microsoft.com/topic/527821871  \n",
       "1  https://academic.microsoft.com/topic/2910993999  \n",
       "2  https://academic.microsoft.com/topic/2778151340  \n",
       "3   https://academic.microsoft.com/topic/196777733  \n",
       "4   https://academic.microsoft.com/topic/178511221  "
      ]
     },
     "execution_count": 47,
     "metadata": {},
     "output_type": "execute_result"
    }
   ],
   "source": [
    "ontology.rename(columns={'SDG label':'sdg_label','FOS-ID':'fos_id','FOS-Name':'fos_name','Link to MAG':'link_to_mag'}, inplace=True)\n",
    "ontology['fos_name'] = ontology.fos_name.map(lambda name: name.lower()) # for later text search\n",
    "ontology.head()"
   ]
  },
  {
   "cell_type": "markdown",
   "metadata": {},
   "source": [
    "#### Define a function for counting words belonging to SDG's in the report text"
   ]
  },
  {
   "cell_type": "code",
   "execution_count": 48,
   "metadata": {},
   "outputs": [],
   "source": [
    "# https://stackoverflow.com/questions/58234175/counting-a-list-of-specific-words-from-text-file-python#58235990\n",
    "def count_words(text, cluster_dict):\n",
    "    count_by_sdg = dict()\n",
    "\n",
    "    for sdg in cluster_dict:\n",
    "        total_count = 0\n",
    "        for word in cluster_dict[sdg]:\n",
    "            if word in text:\n",
    "                total_count +=1\n",
    "\n",
    "        count_by_sdg[sdg]=total_count\n",
    "\n",
    "    return count_by_sdg"
   ]
  },
  {
   "cell_type": "markdown",
   "metadata": {},
   "source": [
    "#### Create a dictionary from the ontology table like structure"
   ]
  },
  {
   "cell_type": "code",
   "execution_count": 49,
   "metadata": {},
   "outputs": [
    {
     "data": {
      "text/plain": [
       "['access control',\n",
       " 'anti-poverty program',\n",
       " 'asset poverty',\n",
       " 'basic needs',\n",
       " 'basic service',\n",
       " 'begging',\n",
       " 'below poverty line',\n",
       " 'bottom of the pyramid',\n",
       " 'cash transfers',\n",
       " 'child poverty']"
      ]
     },
     "execution_count": 49,
     "metadata": {},
     "output_type": "execute_result"
    }
   ],
   "source": [
    "labels = ontology['sdg_label'].unique()\n",
    "sdg_clusters = ontology.groupby('sdg_label')['fos_name'].apply(list)\n",
    "onto_dict = {}\n",
    "for i in range(len(labels)):\n",
    "    onto_dict[labels[i]] = sdg_clusters[i]\n",
    "onto_dict['SDG_1'][:10]"
   ]
  },
  {
   "cell_type": "markdown",
   "metadata": {},
   "source": [
    "#### Save a dictionary containing the count per SDG cluster for each report"
   ]
  },
  {
   "cell_type": "code",
   "execution_count": 50,
   "metadata": {
    "tags": []
   },
   "outputs": [
    {
     "data": {
      "text/html": [
       "<div>\n",
       "<style scoped>\n",
       "    .dataframe tbody tr th:only-of-type {\n",
       "        vertical-align: middle;\n",
       "    }\n",
       "\n",
       "    .dataframe tbody tr th {\n",
       "        vertical-align: top;\n",
       "    }\n",
       "\n",
       "    .dataframe thead th {\n",
       "        text-align: right;\n",
       "    }\n",
       "</style>\n",
       "<table border=\"1\" class=\"dataframe\">\n",
       "  <thead>\n",
       "    <tr style=\"text-align: right;\">\n",
       "      <th></th>\n",
       "      <th>filepath</th>\n",
       "      <th>lang</th>\n",
       "      <th>text</th>\n",
       "      <th>number_of_pages</th>\n",
       "      <th>sdg_count</th>\n",
       "    </tr>\n",
       "  </thead>\n",
       "  <tbody>\n",
       "    <tr>\n",
       "      <th>0</th>\n",
       "      <td>./reports/scraped/full/siemens-energy.pdf</td>\n",
       "      <td>eng</td>\n",
       "      <td>SIEMENS\\nClaleigen4\\n\\nSustainability Report 2...</td>\n",
       "      <td>80</td>\n",
       "      <td>{'SDG_1': 4, 'SDG_2': 3, 'SDG_3': 33, 'SDG_4':...</td>\n",
       "    </tr>\n",
       "    <tr>\n",
       "      <th>1</th>\n",
       "      <td>./reports/scraped/full/adidas-group.pdf</td>\n",
       "      <td>eng</td>\n",
       "      <td>\\n\\nPV p) | py). t)\\nSUS\\nds\\nREPORT\\n\\n \\n\\n...</td>\n",
       "      <td>84</td>\n",
       "      <td>{'SDG_1': 0, 'SDG_2': 3, 'SDG_3': 34, 'SDG_4':...</td>\n",
       "    </tr>\n",
       "  </tbody>\n",
       "</table>\n",
       "</div>"
      ],
      "text/plain": [
       "                                    filepath lang  \\\n",
       "0  ./reports/scraped/full/siemens-energy.pdf  eng   \n",
       "1    ./reports/scraped/full/adidas-group.pdf  eng   \n",
       "\n",
       "                                                text  number_of_pages  \\\n",
       "0  SIEMENS\\nClaleigen4\\n\\nSustainability Report 2...               80   \n",
       "1   \\n\\nPV p) | py). t)\\nSUS\\nds\\nREPORT\\n\\n \\n\\n...               84   \n",
       "\n",
       "                                           sdg_count  \n",
       "0  {'SDG_1': 4, 'SDG_2': 3, 'SDG_3': 33, 'SDG_4':...  \n",
       "1  {'SDG_1': 0, 'SDG_2': 3, 'SDG_3': 34, 'SDG_4':...  "
      ]
     },
     "execution_count": 50,
     "metadata": {},
     "output_type": "execute_result"
    }
   ],
   "source": [
    "if 'sdg_count' not in reports.columns:\n",
    "    for index, row in reports.iterrows():\n",
    "        reports.at[index, 'sdg_count'] = str(count_words(row.text,onto_dict))\n",
    "        reports.to_csv('reports.csv')\n",
    "\n",
    "reports.head()"
   ]
  },
  {
   "cell_type": "markdown",
   "metadata": {},
   "source": [
    "### Plot the results"
   ]
  },
  {
   "cell_type": "code",
   "execution_count": 61,
   "metadata": {},
   "outputs": [
    {
     "data": {
      "image/png": "[encoded data removed]",
      "text/plain": [
       "<Figure size 432x288 with 1 Axes>"
      ]
     },
     "metadata": {
      "needs_background": "light"
     },
     "output_type": "display_data"
    },
    {
     "data": {
      "image/png": "[encoded data removed]",
      "text/plain": [
       "<Figure size 432x288 with 1 Axes>"
      ]
     },
     "metadata": {
      "needs_background": "light"
     },
     "output_type": "display_data"
    }
   ],
   "source": [
    "def extract_filename(filepath: str) -> str:\n",
    "    filename = os.path.basename(filepath).split('.')\n",
    "    return filename[0]\n",
    "\n",
    "import matplotlib.pyplot as plt\n",
    "import numpy as np\n",
    "import ast\n",
    "import os\n",
    "\n",
    "%matplotlib inline\n",
    "D = ast.literal_eval(reports.at[0, 'sdg_count'])\n",
    "E = ast.literal_eval(reports.at[1, 'sdg_count'])\n",
    "ind = np.arange(len(D))\n",
    "\n",
    "for index, row in reports.iterrows():\n",
    "    sdg_count = ast.literal_eval(row['sdg_count'])  # parse dict from string\n",
    "    title = extract_filename(row['filepath'])\n",
    "    plt.title(title)\n",
    "    plt.barh(ind, list(sdg_count.values()), color='green')\n",
    "    plt.yticks(ind, list(D.keys()), rotation=0)\n",
    "    plt.xticks(np.arange(0,70, step=5))\n",
    "    plt.savefig(f'SDG_classification_{title}.png')\n",
    "    plt.show()\n",
    "    \n"
   ]
  },
  {
   "cell_type": "code",
   "execution_count": null,
   "metadata": {},
   "outputs": [],
   "source": []
  }
 ],
 "metadata": {
  "kernelspec": {
   "display_name": "Spark",
   "language": "python",
   "name": "spark"
  },
  "language_info": {
   "codemirror_mode": {
    "name": "ipython",
    "version": 3
   },
   "file_extension": ".py",
   "mimetype": "text/x-python",
   "name": "python",
   "nbconvert_exporter": "python",
   "pygments_lexer": "ipython3",
   "version": "3.6.13"
  },
  "metadata": {
   "interpreter": {
    "hash": "b6cdbf4b2e8750b414b2971ef1cd3ffc89f11df59e451aa0897a445218a679af"
   }
  }
 },
 "nbformat": 4,
 "nbformat_minor": 2
}
