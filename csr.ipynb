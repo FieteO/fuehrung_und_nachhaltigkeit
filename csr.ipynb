{
 "metadata": {
  "language_info": {
   "codemirror_mode": {
    "name": "ipython",
    "version": 3
   },
   "file_extension": ".py",
   "mimetype": "text/x-python",
   "name": "python",
   "nbconvert_exporter": "python",
   "pygments_lexer": "ipython3",
   "version": "3.8.5"
  },
  "orig_nbformat": 2,
  "kernelspec": {
   "name": "pythonjvsc74a57bd0b6cdbf4b2e8750b414b2971ef1cd3ffc89f11df59e451aa0897a445218a679af",
   "display_name": "Python 3.8.5  ('nlp_env': venv)"
  },
  "metadata": {
   "interpreter": {
    "hash": "b6cdbf4b2e8750b414b2971ef1cd3ffc89f11df59e451aa0897a445218a679af"
   }
  }
 },
 "nbformat": 4,
 "nbformat_minor": 2,
 "cells": [
  {
   "cell_type": "code",
   "execution_count": 1,
   "metadata": {},
   "outputs": [],
   "source": [
    "import spacy\n",
    "import pandas as pd"
   ]
  },
  {
   "cell_type": "code",
   "execution_count": 2,
   "metadata": {},
   "outputs": [],
   "source": [
    "# Join the reports\n",
    "reports_de = pd.read_csv('reports_de.csv')\n",
    "reports_en = pd.read_csv('reports_en.csv')\n",
    "reports_joined = reports_de.append(reports_en)\n",
    "reports_joined.to_csv('reports_joined.csv')"
   ]
  },
  {
   "cell_type": "code",
   "execution_count": 3,
   "metadata": {},
   "outputs": [
    {
     "output_type": "execute_result",
     "data": {
      "text/plain": [
       "   Unnamed: 0  Unnamed: 0.1                                    filepath  \\\n",
       "0           0             0              ./reports/scraped/full/mtu.pdf   \n",
       "1           1             1           ./reports/scraped/full/henkel.pdf   \n",
       "2           2             3            ./reports/scraped/full/dpdhl.pdf   \n",
       "3           3             5          ./reports/scraped/full/daimler.pdf   \n",
       "4           4            14  ./reports/scraped/full/deutsche-boerse.pdf   \n",
       "\n",
       "   number_of_pages lang                                               text  \n",
       "0              226  deu  Aero Engines MTU SS Geschäftsbericht MTU AERO ...  \n",
       "1              219  deu   Henkel Nachhaltigkeitsbericht 2020 02 Vorwort...  \n",
       "2                2  deu   NACHHALTIGKEITSFAHRPLAN ZAHLEN & FAKTEN NACHH...  \n",
       "3              205  deu  DAIMLER Nachhaltigkeitsbericht 2019 SIE Vorwor...  \n",
       "4                7  deu   DEUTSCHE BÖRSE it GROUP Klimastrategie der Gr...  "
      ],
      "text/html": "<div>\n<style scoped>\n    .dataframe tbody tr th:only-of-type {\n        vertical-align: middle;\n    }\n\n    .dataframe tbody tr th {\n        vertical-align: top;\n    }\n\n    .dataframe thead th {\n        text-align: right;\n    }\n</style>\n<table border=\"1\" class=\"dataframe\">\n  <thead>\n    <tr style=\"text-align: right;\">\n      <th></th>\n      <th>Unnamed: 0</th>\n      <th>Unnamed: 0.1</th>\n      <th>filepath</th>\n      <th>number_of_pages</th>\n      <th>lang</th>\n      <th>text</th>\n    </tr>\n  </thead>\n  <tbody>\n    <tr>\n      <th>0</th>\n      <td>0</td>\n      <td>0</td>\n      <td>./reports/scraped/full/mtu.pdf</td>\n      <td>226</td>\n      <td>deu</td>\n      <td>Aero Engines MTU SS Geschäftsbericht MTU AERO ...</td>\n    </tr>\n    <tr>\n      <th>1</th>\n      <td>1</td>\n      <td>1</td>\n      <td>./reports/scraped/full/henkel.pdf</td>\n      <td>219</td>\n      <td>deu</td>\n      <td>Henkel Nachhaltigkeitsbericht 2020 02 Vorwort...</td>\n    </tr>\n    <tr>\n      <th>2</th>\n      <td>2</td>\n      <td>3</td>\n      <td>./reports/scraped/full/dpdhl.pdf</td>\n      <td>2</td>\n      <td>deu</td>\n      <td>NACHHALTIGKEITSFAHRPLAN ZAHLEN &amp; FAKTEN NACHH...</td>\n    </tr>\n    <tr>\n      <th>3</th>\n      <td>3</td>\n      <td>5</td>\n      <td>./reports/scraped/full/daimler.pdf</td>\n      <td>205</td>\n      <td>deu</td>\n      <td>DAIMLER Nachhaltigkeitsbericht 2019 SIE Vorwor...</td>\n    </tr>\n    <tr>\n      <th>4</th>\n      <td>4</td>\n      <td>14</td>\n      <td>./reports/scraped/full/deutsche-boerse.pdf</td>\n      <td>7</td>\n      <td>deu</td>\n      <td>DEUTSCHE BÖRSE it GROUP Klimastrategie der Gr...</td>\n    </tr>\n  </tbody>\n</table>\n</div>"
     },
     "metadata": {},
     "execution_count": 3
    }
   ],
   "source": [
    "#reports = pd.read_csv('reports.csv')\n",
    "reports = pd.read_csv('reports_joined.csv')\n",
    "reports['text'] = reports['text'].str.replace(r'\\s+',' ', regex=True)\n",
    "reports.head()"
   ]
  },
  {
   "cell_type": "code",
   "execution_count": 11,
   "metadata": {},
   "outputs": [
    {
     "output_type": "execute_result",
     "data": {
      "text/plain": [
       "   Unnamed: 0                            filepath  number_of_pages  \\\n",
       "0           0      ./reports/scraped/full/mtu.pdf              226   \n",
       "1           1   ./reports/scraped/full/henkel.pdf              219   \n",
       "2           2  ./reports/scraped/full/allianz.pdf              102   \n",
       "3           3    ./reports/scraped/full/dpdhl.pdf                2   \n",
       "\n",
       "                                                text  \\\n",
       "0  Aero Engines MTU Lo Geschdftsbericht MTU AERO ...   \n",
       "1   Henkel Nachhaltigkeitsbericht 2020 02 Vorwort...   \n",
       "2  |COLLABORATING FOR A SUSTAINABLE FUTURE es | a...   \n",
       "3   NACHHALTIGKEITSFAHRPLAN ZAHLEN & FAKTEN NACHH...   \n",
       "\n",
       "                                      text_processed lang  \n",
       "0  Aero Engines MTU Lo Geschdftsbericht MTU AERO ...   de  \n",
       "1    Henkel Nachhaltigkeitsbericht 2020 02 Vorwor...   de  \n",
       "2  |collaborate SUSTAINABLE future es | , | ALLIA...   en  \n",
       "3    NACHHALTIGKEITSFAHRPLAN ZAHLEN & FAKTEN nach...   de  "
      ],
      "text/html": "<div>\n<style scoped>\n    .dataframe tbody tr th:only-of-type {\n        vertical-align: middle;\n    }\n\n    .dataframe tbody tr th {\n        vertical-align: top;\n    }\n\n    .dataframe thead th {\n        text-align: right;\n    }\n</style>\n<table border=\"1\" class=\"dataframe\">\n  <thead>\n    <tr style=\"text-align: right;\">\n      <th></th>\n      <th>Unnamed: 0</th>\n      <th>filepath</th>\n      <th>number_of_pages</th>\n      <th>text</th>\n      <th>text_processed</th>\n      <th>lang</th>\n    </tr>\n  </thead>\n  <tbody>\n    <tr>\n      <th>0</th>\n      <td>0</td>\n      <td>./reports/scraped/full/mtu.pdf</td>\n      <td>226</td>\n      <td>Aero Engines MTU Lo Geschdftsbericht MTU AERO ...</td>\n      <td>Aero Engines MTU Lo Geschdftsbericht MTU AERO ...</td>\n      <td>de</td>\n    </tr>\n    <tr>\n      <th>1</th>\n      <td>1</td>\n      <td>./reports/scraped/full/henkel.pdf</td>\n      <td>219</td>\n      <td>Henkel Nachhaltigkeitsbericht 2020 02 Vorwort...</td>\n      <td>Henkel Nachhaltigkeitsbericht 2020 02 Vorwor...</td>\n      <td>de</td>\n    </tr>\n    <tr>\n      <th>2</th>\n      <td>2</td>\n      <td>./reports/scraped/full/allianz.pdf</td>\n      <td>102</td>\n      <td>|COLLABORATING FOR A SUSTAINABLE FUTURE es | a...</td>\n      <td>|collaborate SUSTAINABLE future es | , | ALLIA...</td>\n      <td>en</td>\n    </tr>\n    <tr>\n      <th>3</th>\n      <td>3</td>\n      <td>./reports/scraped/full/dpdhl.pdf</td>\n      <td>2</td>\n      <td>NACHHALTIGKEITSFAHRPLAN ZAHLEN &amp; FAKTEN NACHH...</td>\n      <td>NACHHALTIGKEITSFAHRPLAN ZAHLEN &amp; FAKTEN nach...</td>\n      <td>de</td>\n    </tr>\n  </tbody>\n</table>\n</div>"
     },
     "metadata": {},
     "execution_count": 11
    }
   ],
   "source": [
    "# from langdetect import detect\n",
    "# reports['lang'] = reports['text'].apply(lambda text: detect(text[:500]))\n",
    "# reports.head()"
   ]
  },
  {
   "cell_type": "code",
   "execution_count": 3,
   "metadata": {},
   "outputs": [],
   "source": [
    "# nlp = spacy.load('en_core_web_sm')"
   ]
  },
  {
   "cell_type": "code",
   "execution_count": 12,
   "metadata": {},
   "outputs": [
    {
     "output_type": "stream",
     "name": "stdout",
     "text": [
      "   Unnamed: 0  Unnamed: 0.1                                    filepath  \\\n0           0             0              ./reports/scraped/full/mtu.pdf   \n1           1             1           ./reports/scraped/full/henkel.pdf   \n2           2             3            ./reports/scraped/full/dpdhl.pdf   \n3           3             5          ./reports/scraped/full/daimler.pdf   \n4           4            14  ./reports/scraped/full/deutsche-boerse.pdf   \n\n   number_of_pages lang                                               text  \n0              226  deu  Aero Engines MTU SS Geschäftsbericht MTU AERO ...  \n1              219  deu   Henkel Nachhaltigkeitsbericht 2020 02 Vorwort...  \n2                2  deu   NACHHALTIGKEITSFAHRPLAN ZAHLEN & FAKTEN NACHH...  \n3              205  deu  DAIMLER Nachhaltigkeitsbericht 2019 SIE Vorwor...  \n4                7  deu   DEUTSCHE BÖRSE it GROUP Klimastrategie der Gr...  \n"
     ]
    }
   ],
   "source": [
    "# doc = nlp(reports['text'].values[0])\n",
    "\n",
    "nlp_en = spacy.load('en_core_web_sm')\n",
    "nlp_en.max_length = 1300000\n",
    "nlp_de = spacy.load('de_core_news_sm')\n",
    "nlp_de.max_length = 1300000\n",
    "\n",
    "# New stop words list \n",
    "customize_stop_words = [\n",
    "    'attach'\n",
    "]\n",
    "\n",
    "def lemmatize(nlp, text):\n",
    "    # Mark them as stop words\n",
    "    for w in customize_stop_words:\n",
    "        nlp.vocab[w].is_stop = True\n",
    "    return \" \".join(token.lemma_ for token in nlp(text) \n",
    "                                if not token.is_stop)\n",
    "\n",
    "# index, row\n",
    "for row in reports.iterrows():\n",
    "    row = row[1]\n",
    "    if row.lang == 'eng':\n",
    "        # doc = nlp_en(row['text'])\n",
    "        row['lemma'] = lemmatize(nlp_en, row['text'])\n",
    "    if row.lang == 'deu':\n",
    "        row['lemma'] = lemmatize(nlp_de, row['text'])\n",
    "\n",
    "\n",
    "# Mark them as stop words\n",
    "# for w in customize_stop_words:\n",
    "#     nlp.vocab[w].is_stop = True\n",
    "\n",
    "\n",
    "# # Test data\n",
    "# # df = pd.DataFrame( {'Sumcription': [\"attach poster on the wall because it is cool\",\n",
    "# #                                    \"eating and sleeping\"]})\n",
    "\n",
    "# # Convert each row into spacy document and return the lemma of the tokens in \n",
    "# # the document if it is not a sotp word. Finally join the lemmas into as a string\n",
    "# reports['text_processed'] = reports.text.apply(lambda text: \n",
    "#                                           \" \".join(token.lemma_ for token in nlp(text) \n",
    "#                                                    if not token.is_stop))\n",
    "\n",
    "print (reports.head())"
   ]
  },
  {
   "cell_type": "code",
   "execution_count": 15,
   "metadata": {
    "tags": [
     "outputPrepend"
    ]
   },
   "outputs": [
    {
     "output_type": "stream",
     "name": "stdout",
     "text": [
      "9\t\tFalse\n",
      "Facts\t\tfact\t\tFalse\n",
      "&\t\t&\t\tFalse\n",
      "figures\t\tfigure\t\tFalse\n",
      "publication\t\tpublication\t\tFalse\n",
      "tcontrioutors\t\ttcontrioutor\t\tFalse\n",
      "Published\t\tpublish\t\tFalse\n",
      "on\t\ton\t\tTrue\n",
      "April\t\tApril\t\tFalse\n",
      "14\t\t14\t\tFalse\n",
      ",\t\t,\t\tFalse\n",
      "2020\t\t2020\t\tFalse\n",
      "by\t\tby\t\tTrue\n",
      "Merck\t\tMerck\t\tFalse\n",
      ",\t\t,\t\tFalse\n",
      "Group\t\tGroup\t\tFalse\n",
      "Corporate\t\tCorporate\t\tFalse\n",
      "Responsibility\t\tResponsibility\t\tFalse\n",
      "Frankfurter\t\tFrankfurter\t\tFalse\n",
      "Strasse\t\tStrasse\t\tFalse\n",
      "250\t\t250\t\tFalse\n",
      ",\t\t,\t\tFalse\n",
      "64293\t\t64293\t\tFalse\n",
      "Darmstadt\t\tDarmstadt\t\tFalse\n",
      ",\t\t,\t\tFalse\n",
      "Germany\t\tGermany\t\tFalse\n",
      "Tel\t\tTel\t\tFalse\n",
      ".\t\t.\t\tFalse\n",
      ":\t\t:\t\tFalse\n",
      "+49\t\t+49\t\tFalse\n",
      "(\t\t(\t\tFalse\n",
      "0\t\t0\t\tFalse\n",
      ")\t\t)\t\tFalse\n",
      "6151\t\t6151\t\tFalse\n",
      "-\t\t-\t\tFalse\n",
      "72\t\t72\t\tFalse\n",
      "0\t\t0\t\tFalse\n",
      "Fax\t\tfax\t\tFalse\n",
      ":\t\t:\t\tFalse\n",
      "+49\t\t+49\t\tFalse\n",
      "(\t\t(\t\tFalse\n",
      "0\t\t0\t\tFalse\n",
      ")\t\t)\t\tFalse\n",
      "6151\t\t6151\t\tFalse\n",
      "-\t\t-\t\tFalse\n",
      "72\t\t72\t\tFalse\n",
      "5577\t\t5577\t\tFalse\n",
      "Website\t\twebsite\t\tFalse\n",
      ":\t\t:\t\tFalse\n",
      "www.merckgroup.com\t\twww.merckgroup.com\t\tFalse\n",
      "Contact\t\tContact\t\tFalse\n",
      "for\t\tfor\t\tTrue\n",
      "questions\t\tquestion\t\tFalse\n",
      "regarding\t\tregard\t\tTrue\n",
      "this\t\tthis\t\tTrue\n",
      "report\t\treport\t\tFalse\n",
      ":\t\t:\t\tFalse\n",
      "Maria\t\tMaria\t\tFalse\n",
      "Schaad\t\tSchaad\t\tFalse\n",
      ",\t\t,\t\tFalse\n",
      "Group\t\tGroup\t\tFalse\n",
      "Corporate\t\tCorporate\t\tFalse\n",
      "Responsibility\t\tResponsibility\t\tFalse\n",
      "Concept\t\tConcept\t\tFalse\n",
      "and\t\tand\t\tTrue\n",
      "implementation\t\timplementation\t\tFalse\n",
      "of\t\tof\t\tTrue\n",
      "HTML\t\tHTML\t\tFalse\n",
      ",\t\t,\t\tFalse\n",
      "PDF\t\tPDF\t\tFalse\n",
      "&\t\t&\t\tFalse\n",
      "Print\t\tPrint\t\tFalse\n",
      ":\t\t:\t\tFalse\n",
      "nexxar\t\tnexxar\t\tFalse\n",
      "GmbH\t\tgmbh\t\tFalse\n",
      ",\t\t,\t\tFalse\n",
      "Vienna\t\tVienna\t\tFalse\n",
      "-\t\t-\t\tFalse\n",
      "Online\t\tOnline\t\tFalse\n",
      "annual\t\tannual\t\tFalse\n",
      "reports\t\treport\t\tFalse\n",
      "and\t\tand\t\tTrue\n",
      "online\t\tonline\t\tFalse\n",
      "sustainability\t\tsustainability\t\tFalse\n",
      "reports\t\treport\t\tFalse\n",
      "Text\t\tText\t\tFalse\n",
      "and\t\tand\t\tTrue\n",
      "consulting\t\tconsult\t\tFalse\n",
      ":\t\t:\t\tFalse\n",
      "Stakeholder\t\tStakeholder\t\tFalse\n",
      "Reporting\t\treport\t\tFalse\n",
      "GmbH\t\tgmbh\t\tFalse\n",
      "www.stakeholder-reporting.com\t\twww.stakeholder-reporting.com\t\tFalse\n",
      "Photos\t\tphoto\t\tFalse\n",
      "and\t\tand\t\tTrue\n",
      "graphics\t\tgraphic\t\tFalse\n",
      ":\t\t:\t\tFalse\n",
      "Merck\t\tMerck\t\tFalse\n",
      ",\t\t,\t\tFalse\n",
      "Rudiger\t\tRudiger\t\tFalse\n",
      "Nehmzow\t\tNehmzow\t\tFalse\n",
      "222\t\t222\t\tFalse\n"
     ]
    }
   ],
   "source": [
    "print(f\"Token \\t\\tLemma \\t\\tStopword\".format('Token', 'Lemma', 'Stopword'))\n",
    "print(\"-\"*40)\n",
    "for token in doc:\n",
    "    print(f\"{str(token)}\\t\\t{token.lemma_}\\t\\t{token.is_stop}\")"
   ]
  },
  {
   "cell_type": "code",
   "execution_count": 5,
   "metadata": {},
   "outputs": [
    {
     "output_type": "stream",
     "name": "stdout",
     "text": [
      "   Unnamed: 0                            filepath  number_of_pages  \\\n0           0      ./reports/scraped/full/mtu.pdf              226   \n1           1   ./reports/scraped/full/henkel.pdf              219   \n2           2  ./reports/scraped/full/allianz.pdf              102   \n3           3    ./reports/scraped/full/dpdhl.pdf                2   \n\n                                                text  \\\n0  Aero Engines MTU Lo Geschdftsbericht MTU AERO ...   \n1   Henkel Nachhaltigkeitsbericht 2020 02 Vorwort...   \n2  |COLLABORATING FOR A SUSTAINABLE FUTURE es | a...   \n3   NACHHALTIGKEITSFAHRPLAN ZAHLEN & FAKTEN NACHH...   \n\n                                      text_processed  \n0  Aero Engines MTU Lo Geschdftsbericht MTU AERO ...  \n1    Henkel Nachhaltigkeitsbericht 2020 02 Vorwor...  \n2  |collaborate SUSTAINABLE future es | , | ALLIA...  \n3    NACHHALTIGKEITSFAHRPLAN ZAHLEN & FAKTEN nach...  \n"
     ]
    }
   ],
   "source": [
    "# https://stackoverflow.com/questions/55817040/removing-stop-words-using-spacy#55818253\n",
    "import spacy\n",
    "import pandas as pd\n",
    "\n",
    "# Load spacy model\n",
    "nlp = spacy.load('en_core_web_sm')\n",
    "\n",
    "# New stop words list \n",
    "customize_stop_words = [\n",
    "    'attach'\n",
    "]\n",
    "\n",
    "# Mark them as stop words\n",
    "for w in customize_stop_words:\n",
    "    nlp.vocab[w].is_stop = True\n",
    "\n",
    "\n",
    "# Test data\n",
    "# df = pd.DataFrame( {'Sumcription': [\"attach poster on the wall because it is cool\",\n",
    "#                                    \"eating and sleeping\"]})\n",
    "\n",
    "# Convert each row into spacy document and return the lemma of the tokens in \n",
    "# the document if it is not a sotp word. Finally join the lemmas into as a string\n",
    "reports['text_processed'] = reports.text.apply(lambda text: \n",
    "                                          \" \".join(token.lemma_ for token in nlp(text) \n",
    "                                                   if not token.is_stop))\n",
    "\n",
    "print (reports.head())\n"
   ]
  },
  {
   "cell_type": "code",
   "execution_count": 13,
   "metadata": {},
   "outputs": [
    {
     "output_type": "execute_result",
     "data": {
      "text/plain": [
       "Verbindlichkeiten [T103) 169 Investitionen in immaterielle Vermögenswerte, Sachanlagen, Angaben zu Finanzinstrumenten Buchwerte, Wertansätze und erworbene Programmwerte und Entwicklung [T133] 198 beizulegende Zeitwerte zum 31.12.2020 [11041 170 Langfristige Vermögenswerte [1134] 198 Angaben zu Finanzinstrumenten Buchwerte, Wertansätze und Gewinn- und Verlustrechnung der MTU Aero Engines AG [T135] 200 beizulegende Zeitwerte zum 31.12.2019 [105] 171 Hierarchische Einstufung der zum beizulegenden Zeitwert bewerteten finanziellen Vermögenswerte und Verbindlichkeiten für das Geschäftsjahr 2020 [T106) 172 223 Geschäftsbericht 2020 Weitere Informationen Finanzkalender 21. April 2021 Hauptversammlung 30. April 2021 Quartalsmitteilung zum 31. März 2021 Telefonkonferenzen mit Journalisten, Analysten und Investoren 30. Juli 2021 Zwischenbericht zum 30. Juni 2021 Telefonkonferenzen mit Journalisten, Analysten und Investoren 29. Oktober 2021 Quartalsmitteilung zum 30. September 2021 Telefonkonferenzen mit Journalisten, Analysten und Investoren 25. November 2021 MTU Analysten- und Investorenkonferenz Kontakt MTU Aero Engines AG Dachauer Straße 665 80995 München Telefon: +49 89 1489-0 Fax: +49 89 1489-5500 E-Mail: info@mtu.de www.mtu.de Eckhard Zanger Leiter Unternehmenskommunikation und Public Affairs Telefon: +49 89 1489-9113 Fax: +49 89 1489-9140 E-Mail: Eckhard.Zanger@mtu.de Die Adressen der MTU-Niederlassungen und -Beteiligungsgesellschaften im In- und Ausland finden Sie im Internet unter www.mtu.de Thomas Franz Leiter Investor Relations Telefon: +49 89 1489-4787 Fax: +49 89 1489-95583 E-Mail: Thomas.Franz@mtu.de 224 Den vorliegenden Geschäftsbericht der MTU Aero Engines AG gibt es auch in englischer Sprache. Der Bericht wird auf Deutsch und Englisch als PDF auf der MTU-Website zur Verfügung gestellt. MTU % Aero Engines MTU Aero Engines AG Dachauer Straße 665 80995 München + Deutschland Tel. +49 89 1489-0 Fax +49 89 1489-5500 info@mtu.de www.mtu.de GER 03/2 1/MUC/00000/SP/D '"
      ]
     },
     "metadata": {},
     "execution_count": 13
    }
   ],
   "source": [
    "reports.to_csv('processed.csv')\n",
    "processed = pd.read_csv('processed.csv')\n",
    "processed['text'].values[0]"
   ]
  },
  {
   "cell_type": "code",
   "execution_count": 7,
   "metadata": {},
   "outputs": [
    {
     "output_type": "execute_result",
     "data": {
      "text/plain": [
       "swerte , Sachanlagen , Angaben zu Finanzinstrumenten Buchwerte , Wertansatze und erworbene Programmwerte und Entwicklung ( T133 ] 198 beizulegende Zeitwerte zum 31.12.2020 ( T1041 170 Langfristige Vermégenswerte T1341 ] 198 Angaben zu Finanzinstrumenten Buchwerte , Wertansatze und Gewinn- und Verlustrechnung der MTU Aero Engines AG ( T135 ] 200 beizulegende Zeitwerte zum 31.12.2019 ( 1105 ) 171 Hierarchische Einstufung der zum beizulegenden Zeitwert bewerteten finanziellen Vermégenswerte und Verbindlichkeiten fiir das Geschaftsjahr 2020 ( t106 ] 172 223 Geschaftsbericht 2020 Weitere Informationen Finanzkalender 21 . April 2021 Hauptversammlung 30 . April 2021 Quartalsmitteilung zum 31 . Marz 2021 Telefonkonferenzen mit Journalisten , Analysten und Investoren 30 . Juli 2021 Zwischenbericht zum 30 . Juni 2021 Telefonkonferenzen mit Journalisten , Analysten und Investoren 29 . oktober 2021 Quartalsmitteilung zum 30 . September 2021 Telefonkonferenzen mit Journalisten , Analysten und Investoren 25 . November 2021 mtu Analysten- und Investorenkonferenz Kontakt MTU Aero Engines AG Dachauer StraBe 665 80995 Miinchen Telefon : +49 89 1489 - 0 fax : +49 89 1489 - 5500 e - mail : info@mtu.de www.mtu.de Eckhard Zanger Leiter Unternehmenskommunikation und Public Affairs Telefon : +49 89 1489 - 9113 fax : +49 89 1489 - 9140 e - mail : Eckhard.Zanger@mtu.de die Adressen der MTU - Niederlassungen und -Beteiligungsgesellschaften m In- und Ausland finden Sie m internet unter www.mtu.de Thomas Franz Leiter Investor Relations Telefon : +49 89 1489 - 4787 fax : +49 89 1489 - 95583 e - Mail : Thomas.Franz@mtu.de 224 den vorliegenden geschaftsbericht der MTU Aero Engines AG gibt es auch englischer Sprache . Der Bericht wird auf Deutsch und Englisch al PDF auf der MTU - Website zur Verfiigung gestellt . mtu , Aero Engines MTU Aero Engines AG Dachauer StraBe 665 80995 Miinchen ¢ Deutschland Tel . +49 89 1489 - 0 fax +49 89 1489 - 5500 info@mtu.de www.mtu.de GER 03/21 / MUC/00000 / SP / D.'"
      ]
     },
     "metadata": {},
     "execution_count": 7
    }
   ],
   "source": [
    "processed['text_processed'].values[0]"
   ]
  },
  {
   "cell_type": "code",
   "execution_count": 14,
   "metadata": {},
   "outputs": [
    {
     "output_type": "error",
     "ename": "KeyError",
     "evalue": "'text_processed'",
     "traceback": [
      "\u001b[0;31m---------------------------------------------------------------------------\u001b[0m",
      "\u001b[0;31mKeyError\u001b[0m                                  Traceback (most recent call last)",
      "\u001b[0;32m~/Documents/studium/fuehrung_und_nachhaltigkeit/nlp_env/lib/python3.8/site-packages/pandas/core/indexes/base.py\u001b[0m in \u001b[0;36mget_loc\u001b[0;34m(self, key, method, tolerance)\u001b[0m\n\u001b[1;32m   3079\u001b[0m             \u001b[0;32mtry\u001b[0m\u001b[0;34m:\u001b[0m\u001b[0;34m\u001b[0m\u001b[0;34m\u001b[0m\u001b[0m\n\u001b[0;32m-> 3080\u001b[0;31m                 \u001b[0;32mreturn\u001b[0m \u001b[0mself\u001b[0m\u001b[0;34m.\u001b[0m\u001b[0m_engine\u001b[0m\u001b[0;34m.\u001b[0m\u001b[0mget_loc\u001b[0m\u001b[0;34m(\u001b[0m\u001b[0mcasted_key\u001b[0m\u001b[0;34m)\u001b[0m\u001b[0;34m\u001b[0m\u001b[0;34m\u001b[0m\u001b[0m\n\u001b[0m\u001b[1;32m   3081\u001b[0m             \u001b[0;32mexcept\u001b[0m \u001b[0mKeyError\u001b[0m \u001b[0;32mas\u001b[0m \u001b[0merr\u001b[0m\u001b[0;34m:\u001b[0m\u001b[0;34m\u001b[0m\u001b[0;34m\u001b[0m\u001b[0m\n",
      "\u001b[0;32mpandas/_libs/index.pyx\u001b[0m in \u001b[0;36mpandas._libs.index.IndexEngine.get_loc\u001b[0;34m()\u001b[0m\n",
      "\u001b[0;32mpandas/_libs/index.pyx\u001b[0m in \u001b[0;36mpandas._libs.index.IndexEngine.get_loc\u001b[0;34m()\u001b[0m\n",
      "\u001b[0;32mpandas/_libs/hashtable_class_helper.pxi\u001b[0m in \u001b[0;36mpandas._libs.hashtable.PyObjectHashTable.get_item\u001b[0;34m()\u001b[0m\n",
      "\u001b[0;32mpandas/_libs/hashtable_class_helper.pxi\u001b[0m in \u001b[0;36mpandas._libs.hashtable.PyObjectHashTable.get_item\u001b[0;34m()\u001b[0m\n",
      "\u001b[0;31mKeyError\u001b[0m: 'text_processed'",
      "\nThe above exception was the direct cause of the following exception:\n",
      "\u001b[0;31mKeyError\u001b[0m                                  Traceback (most recent call last)",
      "\u001b[0;32m<ipython-input-14-dbd95d8eb996>\u001b[0m in \u001b[0;36m<module>\u001b[0;34m\u001b[0m\n\u001b[1;32m      4\u001b[0m \u001b[0;34m\u001b[0m\u001b[0m\n\u001b[1;32m      5\u001b[0m \u001b[0;31m# Create and generate a word cloud image:\u001b[0m\u001b[0;34m\u001b[0m\u001b[0;34m\u001b[0m\u001b[0;34m\u001b[0m\u001b[0m\n\u001b[0;32m----> 6\u001b[0;31m \u001b[0mwordcloud\u001b[0m \u001b[0;34m=\u001b[0m \u001b[0mWordCloud\u001b[0m\u001b[0;34m(\u001b[0m\u001b[0;34m)\u001b[0m\u001b[0;34m.\u001b[0m\u001b[0mgenerate\u001b[0m\u001b[0;34m(\u001b[0m\u001b[0mprocessed\u001b[0m\u001b[0;34m[\u001b[0m\u001b[0;34m'text_processed'\u001b[0m\u001b[0;34m]\u001b[0m\u001b[0;34m.\u001b[0m\u001b[0mvalues\u001b[0m\u001b[0;34m[\u001b[0m\u001b[0;36m0\u001b[0m\u001b[0;34m]\u001b[0m\u001b[0;34m)\u001b[0m\u001b[0;34m\u001b[0m\u001b[0;34m\u001b[0m\u001b[0m\n\u001b[0m\u001b[1;32m      7\u001b[0m \u001b[0;34m\u001b[0m\u001b[0m\n\u001b[1;32m      8\u001b[0m \u001b[0;31m# Display the generated image:\u001b[0m\u001b[0;34m\u001b[0m\u001b[0;34m\u001b[0m\u001b[0;34m\u001b[0m\u001b[0m\n",
      "\u001b[0;32m~/Documents/studium/fuehrung_und_nachhaltigkeit/nlp_env/lib/python3.8/site-packages/pandas/core/frame.py\u001b[0m in \u001b[0;36m__getitem__\u001b[0;34m(self, key)\u001b[0m\n\u001b[1;32m   3022\u001b[0m             \u001b[0;32mif\u001b[0m \u001b[0mself\u001b[0m\u001b[0;34m.\u001b[0m\u001b[0mcolumns\u001b[0m\u001b[0;34m.\u001b[0m\u001b[0mnlevels\u001b[0m \u001b[0;34m>\u001b[0m \u001b[0;36m1\u001b[0m\u001b[0;34m:\u001b[0m\u001b[0;34m\u001b[0m\u001b[0;34m\u001b[0m\u001b[0m\n\u001b[1;32m   3023\u001b[0m                 \u001b[0;32mreturn\u001b[0m \u001b[0mself\u001b[0m\u001b[0;34m.\u001b[0m\u001b[0m_getitem_multilevel\u001b[0m\u001b[0;34m(\u001b[0m\u001b[0mkey\u001b[0m\u001b[0;34m)\u001b[0m\u001b[0;34m\u001b[0m\u001b[0;34m\u001b[0m\u001b[0m\n\u001b[0;32m-> 3024\u001b[0;31m             \u001b[0mindexer\u001b[0m \u001b[0;34m=\u001b[0m \u001b[0mself\u001b[0m\u001b[0;34m.\u001b[0m\u001b[0mcolumns\u001b[0m\u001b[0;34m.\u001b[0m\u001b[0mget_loc\u001b[0m\u001b[0;34m(\u001b[0m\u001b[0mkey\u001b[0m\u001b[0;34m)\u001b[0m\u001b[0;34m\u001b[0m\u001b[0;34m\u001b[0m\u001b[0m\n\u001b[0m\u001b[1;32m   3025\u001b[0m             \u001b[0;32mif\u001b[0m \u001b[0mis_integer\u001b[0m\u001b[0;34m(\u001b[0m\u001b[0mindexer\u001b[0m\u001b[0;34m)\u001b[0m\u001b[0;34m:\u001b[0m\u001b[0;34m\u001b[0m\u001b[0;34m\u001b[0m\u001b[0m\n\u001b[1;32m   3026\u001b[0m                 \u001b[0mindexer\u001b[0m \u001b[0;34m=\u001b[0m \u001b[0;34m[\u001b[0m\u001b[0mindexer\u001b[0m\u001b[0;34m]\u001b[0m\u001b[0;34m\u001b[0m\u001b[0;34m\u001b[0m\u001b[0m\n",
      "\u001b[0;32m~/Documents/studium/fuehrung_und_nachhaltigkeit/nlp_env/lib/python3.8/site-packages/pandas/core/indexes/base.py\u001b[0m in \u001b[0;36mget_loc\u001b[0;34m(self, key, method, tolerance)\u001b[0m\n\u001b[1;32m   3080\u001b[0m                 \u001b[0;32mreturn\u001b[0m \u001b[0mself\u001b[0m\u001b[0;34m.\u001b[0m\u001b[0m_engine\u001b[0m\u001b[0;34m.\u001b[0m\u001b[0mget_loc\u001b[0m\u001b[0;34m(\u001b[0m\u001b[0mcasted_key\u001b[0m\u001b[0;34m)\u001b[0m\u001b[0;34m\u001b[0m\u001b[0;34m\u001b[0m\u001b[0m\n\u001b[1;32m   3081\u001b[0m             \u001b[0;32mexcept\u001b[0m \u001b[0mKeyError\u001b[0m \u001b[0;32mas\u001b[0m \u001b[0merr\u001b[0m\u001b[0;34m:\u001b[0m\u001b[0;34m\u001b[0m\u001b[0;34m\u001b[0m\u001b[0m\n\u001b[0;32m-> 3082\u001b[0;31m                 \u001b[0;32mraise\u001b[0m \u001b[0mKeyError\u001b[0m\u001b[0;34m(\u001b[0m\u001b[0mkey\u001b[0m\u001b[0;34m)\u001b[0m \u001b[0;32mfrom\u001b[0m \u001b[0merr\u001b[0m\u001b[0;34m\u001b[0m\u001b[0;34m\u001b[0m\u001b[0m\n\u001b[0m\u001b[1;32m   3083\u001b[0m \u001b[0;34m\u001b[0m\u001b[0m\n\u001b[1;32m   3084\u001b[0m         \u001b[0;32mif\u001b[0m \u001b[0mtolerance\u001b[0m \u001b[0;32mis\u001b[0m \u001b[0;32mnot\u001b[0m \u001b[0;32mNone\u001b[0m\u001b[0;34m:\u001b[0m\u001b[0;34m\u001b[0m\u001b[0;34m\u001b[0m\u001b[0m\n",
      "\u001b[0;31mKeyError\u001b[0m: 'text_processed'"
     ]
    }
   ],
   "source": [
    "from wordcloud import WordCloud, STOPWORDS, ImageColorGenerator\n",
    "import matplotlib.pyplot as plt\n",
    "#% matplotlib inline\n",
    "\n",
    "# Create and generate a word cloud image:\n",
    "wordcloud = WordCloud().generate(processed['text_processed'].values[0])\n",
    "\n",
    "# Display the generated image:\n",
    "plt.imshow(wordcloud, interpolation='bilinear')\n",
    "plt.axis(\"off\")\n",
    "plt.show()"
   ]
  },
  {
   "cell_type": "code",
   "execution_count": null,
   "metadata": {},
   "outputs": [],
   "source": []
  }
 ]
}