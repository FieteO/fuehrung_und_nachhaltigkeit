{
 "metadata": {
  "language_info": {
   "codemirror_mode": {
    "name": "ipython",
    "version": 3
   },
   "file_extension": ".py",
   "mimetype": "text/x-python",
   "name": "python",
   "nbconvert_exporter": "python",
   "pygments_lexer": "ipython3",
   "version": "3.8.5"
  },
  "orig_nbformat": 2,
  "kernelspec": {
   "name": "pythonjvsc74a57bd0b6cdbf4b2e8750b414b2971ef1cd3ffc89f11df59e451aa0897a445218a679af",
   "display_name": "Python 3.8.5  ('nlp_env': venv)"
  },
  "metadata": {
   "interpreter": {
    "hash": "b6cdbf4b2e8750b414b2971ef1cd3ffc89f11df59e451aa0897a445218a679af"
   }
  }
 },
 "nbformat": 4,
 "nbformat_minor": 2,
 "cells": [
  {
   "cell_type": "code",
   "execution_count": 1,
   "metadata": {},
   "outputs": [],
   "source": [
    "import os\n",
    "from PIL import Image\n",
    "from pdf2image import convert_from_path\n",
    "import pandas as pd\n",
    "from multiprocessing import cpu_count, Pool\n",
    "import numpy as np\n",
    "import concurrent.futures\n",
    "import queue\n",
    "import time\n",
    "\n",
    "import tesserocr\n",
    "from pdf2image import convert_from_bytes\n",
    "from langdetect import detect"
   ]
  },
  {
   "source": [
    "# Define functions"
   ],
   "cell_type": "markdown",
   "metadata": {}
  },
  {
   "cell_type": "code",
   "execution_count": null,
   "metadata": {},
   "outputs": [],
   "source": [
    "def get_filepaths(path):\n",
    "    pdf_filepaths = []\n",
    "    for root, directories, files in os.walk(path, topdown=False):\n",
    "        for name in files:\n",
    "            if name[-4:] == '.pdf':\n",
    "                pdf_filepaths.append(os.path.join(root, name))\n",
    "    return pdf_filepaths\n",
    "\n",
    "def get_language(path):\n",
    "        text = ''\n",
    "        for p in range(0,5):\n",
    "            image_path = path[:-4] + '_' + str(p) + '.jpg'\n",
    "            if os.path.isfile(image_path):\n",
    "                if len(text) <= 500:\n",
    "                    text += tesserocr.file_to_text(image_path)\n",
    "                else:\n",
    "                    print('Reached required number of words for language detection after ' + str(p) + ' pages.')\n",
    "                    break\n",
    "            else:\n",
    "                break\n",
    "        return detect(text[:500]) # returns i.e en or de\n",
    "\n",
    "def perform_ocr(img):\n",
    "    tess_api = None\n",
    "    try:\n",
    "        tess_api = tesserocr_queue.get(block=True, timeout=300)\n",
    "        tess_api.SetImage(img)\n",
    "        text = tess_api.GetUTF8Text()\n",
    "        return text\n",
    "    except tesserocr_queue.Empty:\n",
    "        print('Empty exception caught!')\n",
    "        return None\n",
    "    finally:\n",
    "        if tess_api is not None:\n",
    "            tesserocr_queue.put(tess_api)\n",
    "\n",
    "def run_threaded_ocr_on_pdf(ocr_images, num_threads, language):\n",
    "    # Setup Queue\n",
    "    for _ in range(num_threads):\n",
    "        tesserocr_queue.put(tesserocr.PyTessBaseAPI(lang=language))\n",
    "\n",
    "    # Perform OCR using ThreadPoolExecutor\n",
    "    start = time.time()\n",
    "    with concurrent.futures.ThreadPoolExecutor(max_workers=num_threads) as executor:\n",
    "        res = executor.map(perform_ocr, ocr_images)\n",
    "    end = time.time()\n",
    "\n",
    "    # Restoring queue\n",
    "    for _ in range(num_threads):\n",
    "        api = tesserocr_queue.get(block=True)\n",
    "        api.End()\n",
    "\n",
    "    tesserocr_queue.queue.clear()\n",
    "    return (res, end - start)\n",
    "\n",
    "def ocr_pdf(filepath, language, threads):\n",
    "    # Pdf to image\n",
    "    with open(filepath, 'rb') as raw_pdf:\n",
    "        ocr_entities = convert_from_bytes(raw_pdf.read(), dpi=300, thread_count=4, grayscale=True)\n",
    "\n",
    "    print(f'Starting OCR for file { os.path.basename(filepath) }')\n",
    "    result_iterator, total_time = run_threaded_ocr_on_pdf(ocr_entities, threads, language)\n",
    "\n",
    "    text = ''\n",
    "    number_of_pages = 0\n",
    "    for item in result_iterator:\n",
    "        text += item\n",
    "        number_of_pages += 1\n",
    "    \n",
    "    print(f'OCR finished in {str(total_time)} seconds with an average of {str(total_time / number_of_pages)} seconds per page.')\n",
    "    return (text, number_of_pages)"
   ]
  },
  {
   "source": [
    "## Initialize dataframe with pdf filepaths"
   ],
   "cell_type": "markdown",
   "metadata": {}
  },
  {
   "cell_type": "code",
   "execution_count": null,
   "metadata": {},
   "outputs": [],
   "source": [
    "root_dir = './reports'\n",
    "reports = pd.DataFrame(get_filepaths(root_dir), columns = ['filepath'])"
   ]
  },
  {
   "source": [
    "## Identify document language based on a sample of pages"
   ],
   "cell_type": "markdown",
   "metadata": {}
  },
  {
   "cell_type": "code",
   "execution_count": null,
   "metadata": {},
   "outputs": [],
   "source": [
    "reports['lang'] = reports['filepath'].map(get_language)\n",
    "reports.lang = reports.lang.map({'en':'eng','de':'deu'})\n",
    "reports = reports.sort_values(by='lang')\n",
    "reports.reset_index(drop=True, inplace=True)\n",
    "reports.head()"
   ]
  },
  {
   "source": [
    "## Perform OCR"
   ],
   "cell_type": "markdown",
   "metadata": {}
  },
  {
   "cell_type": "code",
   "execution_count": null,
   "metadata": {},
   "outputs": [],
   "source": [
    "# check optimal number of threads with tesser_perf.py\n",
    "threads = 8\n",
    "\n",
    "for index, row in reports.iterrows():\n",
    "    text, number_of_pages = ocr_pdf(row.filepath, row.lang ,threads)\n",
    "    reports.loc[index, 'text'] = text\n",
    "    reports.loc[index, 'number_of_pages'] = number_of_pages\n",
    "\n",
    "reports.number_of_pages = reports.number_of_pages.astype(int)   # is decimal otherwise\n",
    "print(reports.head())\n",
    "reports.to_csv('reports.csv')"
   ]
  }
 ]
}