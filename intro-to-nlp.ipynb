{
 "metadata": {
  "language_info": {
   "codemirror_mode": {
    "name": "ipython",
    "version": 3
   },
   "file_extension": ".py",
   "mimetype": "text/x-python",
   "name": "python",
   "nbconvert_exporter": "python",
   "pygments_lexer": "ipython3",
   "version": "3.8.5"
  },
  "orig_nbformat": 2,
  "kernelspec": {
   "name": "python385jvsc74a57bd0b6cdbf4b2e8750b414b2971ef1cd3ffc89f11df59e451aa0897a445218a679af",
   "display_name": "Python 3.8.5 64-bit ('nlp_env')"
  },
  "metadata": {
   "interpreter": {
    "hash": "b6cdbf4b2e8750b414b2971ef1cd3ffc89f11df59e451aa0897a445218a679af"
   }
  }
 },
 "nbformat": 4,
 "nbformat_minor": 2,
 "cells": [
  {
   "cell_type": "code",
   "execution_count": 7,
   "metadata": {},
   "outputs": [],
   "source": [
    "import spacy\n",
    "model = 'en_core_web_sm'\n",
    "# model = 'de_core_news_sm'\n",
    "nlp = spacy.load(model)"
   ]
  },
  {
   "cell_type": "code",
   "execution_count": 8,
   "metadata": {},
   "outputs": [],
   "source": [
    "doc = nlp(\"Tea is healthy and calming, don't you think?\")"
   ]
  },
  {
   "cell_type": "code",
   "execution_count": 9,
   "metadata": {},
   "outputs": [
    {
     "output_type": "stream",
     "name": "stdout",
     "text": [
      "Tea\nis\nhealthy\nand\ncalming\n,\ndo\nn't\nyou\nthink\n?\n"
     ]
    }
   ],
   "source": [
    "for token in doc:\n",
    "    print(token)"
   ]
  },
  {
   "cell_type": "code",
   "execution_count": 10,
   "metadata": {},
   "outputs": [
    {
     "output_type": "stream",
     "name": "stdout",
     "text": [
      "Token \t\tLemma \t\tStopword\n----------------------------------------\nTea\t\ttea\t\tFalse\nis\t\tbe\t\tTrue\nhealthy\t\thealthy\t\tFalse\nand\t\tand\t\tTrue\ncalming\t\tcalming\t\tFalse\n,\t\t,\t\tFalse\ndo\t\tdo\t\tTrue\nn't\t\tn't\t\tTrue\nyou\t\tyou\t\tTrue\nthink\t\tthink\t\tFalse\n?\t\t?\t\tFalse\n"
     ]
    }
   ],
   "source": [
    "print(f\"Token \\t\\tLemma \\t\\tStopword\".format('Token', 'Lemma', 'Stopword'))\n",
    "print(\"-\"*40)\n",
    "for token in doc:\n",
    "    print(f\"{str(token)}\\t\\t{token.lemma_}\\t\\t{token.is_stop}\")"
   ]
  },
  {
   "cell_type": "code",
   "execution_count": null,
   "metadata": {},
   "outputs": [],
   "source": []
  }
 ]
}