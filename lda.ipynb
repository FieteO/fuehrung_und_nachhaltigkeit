{
 "metadata": {
  "language_info": {
   "codemirror_mode": {
    "name": "ipython",
    "version": 3
   },
   "file_extension": ".py",
   "mimetype": "text/x-python",
   "name": "python",
   "nbconvert_exporter": "python",
   "pygments_lexer": "ipython3",
   "version": "3.8.5"
  },
  "orig_nbformat": 2,
  "kernelspec": {
   "name": "python385jvsc74a57bd0b6cdbf4b2e8750b414b2971ef1cd3ffc89f11df59e451aa0897a445218a679af",
   "display_name": "Python 3.8.5 64-bit ('nlp_env': venv)"
  },
  "metadata": {
   "interpreter": {
    "hash": "b6cdbf4b2e8750b414b2971ef1cd3ffc89f11df59e451aa0897a445218a679af"
   }
  }
 },
 "nbformat": 4,
 "nbformat_minor": 2,
 "cells": [
  {
   "source": [
    "# Topic Modelling with LDA\n",
    "[Kaggle](https://www.kaggle.com/rcushen/topic-modelling-with-lsa-and-lda)"
   ],
   "cell_type": "markdown",
   "metadata": {}
  },
  {
   "source": [
    "## Imports"
   ],
   "cell_type": "markdown",
   "metadata": {}
  },
  {
   "cell_type": "code",
   "execution_count": 428,
   "metadata": {},
   "outputs": [],
   "source": [
    "import numpy as np\n",
    "import pandas as pd\n",
    "import spacy\n",
    "# from IPython.display import display\n",
    "# from tqdm import tqdm\n",
    "from collections import Counter\n",
    "# import ast\n",
    "\n",
    "import matplotlib.pyplot as plt\n",
    "# import matplotlib.mlab as mlab\n",
    "# import seaborn as sb\n",
    "\n",
    "from sklearn.feature_extraction.text import CountVectorizer, TfidfVectorizer\n",
    "# from textblob import TextBlob\n",
    "# import scipy.stats as stats\n",
    "\n",
    "from sklearn.decomposition import TruncatedSVD\n",
    "# from sklearn.decomposition import LatentDirichletAllocation\n",
    "# from sklearn.manifold import TSNE\n",
    "\n",
    "# from bokeh.plotting import figure, output_file, show\n",
    "# from bokeh.models import Label\n",
    "# from bokeh.io import output_notebook\n",
    "# output_notebook()\n",
    "\n",
    "# %matplotlib inline"
   ]
  },
  {
   "source": [
    "## Read in the data"
   ],
   "cell_type": "markdown",
   "metadata": {}
  },
  {
   "cell_type": "code",
   "execution_count": 429,
   "metadata": {},
   "outputs": [
    {
     "output_type": "stream",
     "name": "stderr",
     "text": [
      "/home/fiete/Documents/studium/fuehrung_und_nachhaltigkeit/nlp_env/lib/python3.8/site-packages/pandas/core/indexing.py:1637: SettingWithCopyWarning: \nA value is trying to be set on a copy of a slice from a DataFrame\n\nSee the caveats in the documentation: https://pandas.pydata.org/pandas-docs/stable/user_guide/indexing.html#returning-a-view-versus-a-copy\n  self._setitem_single_block(indexer, value, name)\n"
     ]
    }
   ],
   "source": [
    "reports = pd.read_csv('reports.csv', index_col=0)\n",
    "reports.lang.iloc[9] = 'deu'        # heidelbergcement has the wrong document language\n",
    "reports\n",
    "reports.is_copy = False             # turn of pandas copy warning"
   ]
  },
  {
   "cell_type": "code",
   "execution_count": 430,
   "metadata": {},
   "outputs": [
    {
     "output_type": "execute_result",
     "data": {
      "text/plain": [
       "                                           filepath lang  \\\n",
       "0           ./reports/scraped/full/adidas-group.pdf  eng   \n",
       "1                    ./reports/scraped/full/eon.pdf  eng   \n",
       "2         ./reports/scraped/full/siemens-energy.pdf  eng   \n",
       "3               ./reports/scraped/full/munichre.pdf  eng   \n",
       "4           ./reports/scraped/full/volkswagenag.pdf  eng   \n",
       "5            ./reports/scraped/full/new.siemens.pdf  eng   \n",
       "6   ./reports/scraped/full/freseniusmedicalcare.pdf  eng   \n",
       "7                  ./reports/scraped/full/group.pdf  eng   \n",
       "8              ./reports/scraped/full/fresenius.pdf  eng   \n",
       "9                ./reports/scraped/full/allianz.pdf  eng   \n",
       "10       ./reports/scraped/full/deutsche-wohnen.pdf  eng   \n",
       "11                 ./reports/entire_merck_crr19.pdf  eng   \n",
       "\n",
       "                                                 text  number_of_pages  \n",
       "0   pv p | py. t sus ds report off when working to...               84  \n",
       "1   slavery & human trafficking statement e.on's s...                3  \n",
       "2   siemens claleigen4 sustainability report 2020 ...               80  \n",
       "3   corporate responsibility report 2020 munich re...              106  \n",
       "4   volkswagen aktiengesellschaft sustainability r...               97  \n",
       "5   ure tareas tahielaerreherele 2020 a . 4 ie . c...              144  \n",
       "6   wes fresenius medical care non-financial group...               24  \n",
       "7   a sustainable future. sustainability report 20...              139  \n",
       "8   fresenius 2020 annual report media hub group i...              338  \n",
       "9   ‘ic call rin for /a susta ne ble future | alli...              102  \n",
       "10  sustainability report 2020 for people. for tom...              158  \n",
       "11  corporate responsibility repore 2019 merck cor...              224  "
      ],
      "text/html": "<div>\n<style scoped>\n    .dataframe tbody tr th:only-of-type {\n        vertical-align: middle;\n    }\n\n    .dataframe tbody tr th {\n        vertical-align: top;\n    }\n\n    .dataframe thead th {\n        text-align: right;\n    }\n</style>\n<table border=\"1\" class=\"dataframe\">\n  <thead>\n    <tr style=\"text-align: right;\">\n      <th></th>\n      <th>filepath</th>\n      <th>lang</th>\n      <th>text</th>\n      <th>number_of_pages</th>\n    </tr>\n  </thead>\n  <tbody>\n    <tr>\n      <th>0</th>\n      <td>./reports/scraped/full/adidas-group.pdf</td>\n      <td>eng</td>\n      <td>pv p | py. t sus ds report off when working to...</td>\n      <td>84</td>\n    </tr>\n    <tr>\n      <th>1</th>\n      <td>./reports/scraped/full/eon.pdf</td>\n      <td>eng</td>\n      <td>slavery &amp; human trafficking statement e.on's s...</td>\n      <td>3</td>\n    </tr>\n    <tr>\n      <th>2</th>\n      <td>./reports/scraped/full/siemens-energy.pdf</td>\n      <td>eng</td>\n      <td>siemens claleigen4 sustainability report 2020 ...</td>\n      <td>80</td>\n    </tr>\n    <tr>\n      <th>3</th>\n      <td>./reports/scraped/full/munichre.pdf</td>\n      <td>eng</td>\n      <td>corporate responsibility report 2020 munich re...</td>\n      <td>106</td>\n    </tr>\n    <tr>\n      <th>4</th>\n      <td>./reports/scraped/full/volkswagenag.pdf</td>\n      <td>eng</td>\n      <td>volkswagen aktiengesellschaft sustainability r...</td>\n      <td>97</td>\n    </tr>\n    <tr>\n      <th>5</th>\n      <td>./reports/scraped/full/new.siemens.pdf</td>\n      <td>eng</td>\n      <td>ure tareas tahielaerreherele 2020 a . 4 ie . c...</td>\n      <td>144</td>\n    </tr>\n    <tr>\n      <th>6</th>\n      <td>./reports/scraped/full/freseniusmedicalcare.pdf</td>\n      <td>eng</td>\n      <td>wes fresenius medical care non-financial group...</td>\n      <td>24</td>\n    </tr>\n    <tr>\n      <th>7</th>\n      <td>./reports/scraped/full/group.pdf</td>\n      <td>eng</td>\n      <td>a sustainable future. sustainability report 20...</td>\n      <td>139</td>\n    </tr>\n    <tr>\n      <th>8</th>\n      <td>./reports/scraped/full/fresenius.pdf</td>\n      <td>eng</td>\n      <td>fresenius 2020 annual report media hub group i...</td>\n      <td>338</td>\n    </tr>\n    <tr>\n      <th>9</th>\n      <td>./reports/scraped/full/allianz.pdf</td>\n      <td>eng</td>\n      <td>‘ic call rin for /a susta ne ble future | alli...</td>\n      <td>102</td>\n    </tr>\n    <tr>\n      <th>10</th>\n      <td>./reports/scraped/full/deutsche-wohnen.pdf</td>\n      <td>eng</td>\n      <td>sustainability report 2020 for people. for tom...</td>\n      <td>158</td>\n    </tr>\n    <tr>\n      <th>11</th>\n      <td>./reports/entire_merck_crr19.pdf</td>\n      <td>eng</td>\n      <td>corporate responsibility repore 2019 merck cor...</td>\n      <td>224</td>\n    </tr>\n  </tbody>\n</table>\n</div>"
     },
     "metadata": {},
     "execution_count": 430
    }
   ],
   "source": [
    "# exclude german texts\n",
    "reports = reports[reports['lang'] == 'eng']\n",
    "reports.reset_index(drop=True, inplace=True)\n",
    "reports"
   ]
  },
  {
   "source": [
    "## Preprocess the text\n",
    "- remove stopwords\n",
    "- lemmatize"
   ],
   "cell_type": "markdown",
   "metadata": {}
  },
  {
   "cell_type": "code",
   "execution_count": 431,
   "metadata": {},
   "outputs": [
    {
     "output_type": "stream",
     "name": "stdout",
     "text": [
      "performance management. more than 1500 managers have already started using this platform. our different programs for leadership development are based on regional requirements but with a focus on principles that apply globally. regarding the development of our compensation systems the management board decided on the implementation of a new global leadership bonus plan in 2020. according to this plan all senior executives are given a comparable mix of global business-specific and individual objectives. the aim is to improve the consistency alignment and fairness of our senior leadership targets and ensure recognition. the plan will be implemented in 2021. employee \n"
     ]
    }
   ],
   "source": [
    "text = \"performance manage- ment. more than 1500 managers have already started using this platform. our different programs for lead- ership development are based on regional requirements but with a focus on principles that apply globally. regarding the development of our compensation systems the management board decided on the implementation of a new global leadership bonus plan in 2020. according to this plan all senior executives are given a comparable mix of global busi- ness-specific and individual objectives. the aim is to improve the consistency alignment and fairness of our senior leader- ship targets and ensure recognition. the plan will be imple- mented in 2021. employee \"\n",
    "text = re.sub('([A-z]+)- ', '\\\\1', text)\n",
    "print(text)"
   ]
  },
  {
   "source": [
    "### Text specific corrections"
   ],
   "cell_type": "markdown",
   "metadata": {}
  },
  {
   "cell_type": "code",
   "execution_count": 432,
   "metadata": {},
   "outputs": [
    {
     "output_type": "execute_result",
     "data": {
      "text/plain": [
       "ther assessments based e.on'human rights risk matrix refined 2019 enable even more structured approach assessing human rights risks e.on'supply chain. health safety and environment events will continue conducted throughout 2020 for e.employees and contractor representatives. the aim these events reinforce awareness the importance these topics e.both generally and for individual projects well design specific action plans for joint improvement initiatives related the products and services particular contractor subcontractor provides. the events also serve forum for sharing best practice and communicating e.on'standards and policies. e.on’continued commitment e.will continue review its policies and processes relation the prevention slavery and human trafficking its business and supply chain strengthening these where necessary ensure continued alignment with the act. e.will also continue train all employees and ensure compliance with its code conduct and will identify additional training needs where necessary. this statement has been approved the e.board directors behalf e.june 2020. new statement will published each year the website. how dr. johannes teyssen chief executive officer eon june 2020 ‘ori slavery & human trafficking statement june 2020 'which includes the following e.companies qualifying under the criteria the modern slavery act 2015 e.plc e.energy solutions limited e.energy markets limited e.chp limited e.control solutions limited e.steven'croft limited the following companies were sold during the financial year ending 2019 and e.not therefore producing statement their behalf however during the period e.ownership the policies and procedures these companies were aligned with those covered this statement e.climate & renewables limited e.climate & renewables developments limited e.climate & renewables robin rigg east limited e.climate & renewables humber wind limited e.climate & renewables london array limited view e.on'previous statements please click here.\""
      ]
     },
     "metadata": {},
     "execution_count": 432
    }
   ],
   "source": [
    "custom_stopwords = ['kgaa', 'qed','ssb','eri','magn','mica','ltir','cvcc','aoa','gcgc','nwow','sie','lcas', 'epds', 'unep', 'wef', 'gim', 'efpia', 'mbap','emea', 'ind', 'report','re_cr-report', 'social6']   # those would show up in the topic clusters, most of them ocr errors\n",
    "def remove_custom_stopwords(text, custom_stopwords):\n",
    "    return ' '.join(filter(lambda x: x.lower() not in custom_stopwords,  text.split()))\n",
    "\n",
    "reports.text = reports.text.str.replace('([A-z]+)- ', '\\\\1', regex=True)    # there are tons of separated words, i.e environ- ment\n",
    "#reports.text = reports.text.str.replace('[^0-9A-z ]+', '', regex=True)      # replace special characters\n",
    "# reports.text = reports.text.str.replace(' \\\\d{1,3} ', ' ', regex=True)    #replace 1 to 3 digits number\n",
    "reports.text = reports.text.str.replace('\\\\b\\\\w{1,2} ', '', regex=True)     #replace words of length 1 or 2\n",
    "# https://stackoverflow.com/questions/34305505/python-regex-remove-digits-except-years#34305766\n",
    "reports.text = reports.text.str.replace('\\\\b(?!(\\\\D\\\\S*|20[0-9]{2})\\\\b)\\S+\\\\b', ' ', regex=True)   #replace all digits not in range 1000-2999\n",
    "reports.text = reports.text.str.replace('siemen ', 'siemens ')\n",
    "reports.text = reports.text.str.replace('adida ', 'adidas ')\n",
    "reports.text = reports.text.str.replace('allianzs ', 'allianz ')\n",
    "reports.text = reports.text.map(lambda text: remove_custom_stopwords(text, custom_stopwords))\n",
    "\n",
    "reports.loc[1]['text']"
   ]
  },
  {
   "source": [
    "### Lemmatize, remove stopwords"
   ],
   "cell_type": "markdown",
   "metadata": {}
  },
  {
   "cell_type": "code",
   "execution_count": 433,
   "metadata": {},
   "outputs": [
    {
     "output_type": "execute_result",
     "data": {
      "text/plain": [
       "'| py sus work toget reason call creator mployee partner consumer supplier important ney strive space eas creative force need improve mpany’sustainable effort gaede ceee gee lena mvaay kehw yma vine worker supply chain assistance supplier improve environmental performance develop chemical management minimise waste people positive imp world guide core belief tha sport power change team thousand keep mat effort call con people ceo statement empow people start listen empower worker supply chain sust'"
      ]
     },
     "metadata": {},
     "execution_count": 433
    }
   ],
   "source": [
    "nlp_en = spacy.load('en_core_web_sm')\n",
    "nlp_en.max_length = 1300000\n",
    "nlp_de = spacy.load('de_core_news_sm')\n",
    "nlp_de.max_length = 1300000\n",
    "\n",
    "# New stop words list \n",
    "customize_stop_words = [\n",
    "    'attach'\n",
    "]\n",
    "\n",
    "def lemmatize(nlp, text) -> str:\n",
    "    # Mark them as stop words\n",
    "    for w in customize_stop_words:\n",
    "        nlp.vocab[w].is_stop = True\n",
    "    return \" \".join(token.lemma_ for token in nlp(text) \n",
    "                                if not token.is_stop and not token.is_punct)\n",
    "\n",
    "for index, row in reports.iterrows():\n",
    "    if row.lang == 'eng':\n",
    "        reports.loc[index, 'lemma'] = lemmatize(nlp_en, row.text)\n",
    "    if row.lang == 'deu':\n",
    "        reports.loc[index, 'lemma'] = lemmatize(nlp_de, row.text)\n",
    "\n",
    "reports.lemma = reports.lemma.str.replace(' adida ', ' adidas ')\n",
    "reports.lemma = reports.lemma.str.replace(' siemen ', ' siemens ')\n",
    "reports.lemma = reports.lemma.str.replace('allianzs ', 'allianz ')\n",
    "\n",
    "reports.lemma[0][:500]"
   ]
  },
  {
   "source": [
    "## Create Term Frequency-Inverse Document Frequency (TFIDF) matrix"
   ],
   "cell_type": "markdown",
   "metadata": {}
  },
  {
   "source": [
    "### Bigrams"
   ],
   "cell_type": "markdown",
   "metadata": {}
  },
  {
   "cell_type": "code",
   "execution_count": 440,
   "metadata": {},
   "outputs": [
    {
     "output_type": "stream",
     "name": "stdout",
     "text": [
      "(12, 206310)\n"
     ]
    }
   ],
   "source": [
    "number_of_topics = 20\n",
    "# https://www.kaggle.com/munavar/latent-semantic-analysis-topic-modelling/#Topic-Modeling-insincere-questions\n",
    "tfidf_vectorizer = TfidfVectorizer(sublinear_tf=True,ngram_range={1,2}) # ,ngram_range={1,2}\n",
    "tfidf_matrix= tfidf_vectorizer.fit_transform(reports.lemma)\n",
    "print(tfidf_matrix.shape)"
   ]
  },
  {
   "cell_type": "code",
   "execution_count": 441,
   "metadata": {},
   "outputs": [],
   "source": [
    "truncated_svd=TruncatedSVD(n_components=number_of_topics, n_iter=10,random_state=42)\n",
    "X=truncated_svd.fit_transform(tfidf_matrix)     # Fit model to [text] and perform dimensionality reduction on [text]"
   ]
  },
  {
   "cell_type": "code",
   "execution_count": 442,
   "metadata": {},
   "outputs": [],
   "source": [
    "def get_topics(components, feature_names, n=number_of_topics):\n",
    "    clusters = []\n",
    "    for index, frequency in enumerate(components):\n",
    "        clusters.append((f\"Topic {index}\", [(feature_names[i]) for i in frequency.argsort()[:-n - 1:-1]]))\n",
    "    return clusters"
   ]
  },
  {
   "cell_type": "code",
   "execution_count": 443,
   "metadata": {
    "tags": []
   },
   "outputs": [
    {
     "output_type": "stream",
     "name": "stdout",
     "text": [
      "Notes:\nfla: Fair Labor Association\noifr: Occupational Illness Frequency Rate\nekpi: Environmental KPI\nepra: European Public Real Estate Association\npimco: global investment management firm\nmeag: Munich Ergo Assetmanagement Gmbh\nbcg: Business Conduct Guidelines\ndkv: Deutsche Krankenversicherung\ncsb: Chemischer Sauerstoffbedarf\n"
     ]
    }
   ],
   "source": [
    "topic_clusters = get_topics(truncated_svd.components_,tfidf_vectorizer.get_feature_names())"
   ]
  },
  {
   "cell_type": "code",
   "execution_count": 446,
   "metadata": {
    "tags": [
     "outputPrepend"
    ]
   },
   "outputs": [
    {
     "output_type": "stream",
     "name": "stdout",
     "text": [
      "wear', 'parley ocean', 'fla', 'target evaluation', 'apparel', '2014 2016', 'adidas distribution', 'adidas office', 'ocean plastic', 'supplier factory', 'licensee factory', 'timeline progress', 'factory']\n\nTopic 5: ['esg integration', 'underwriting', 'asset owner', 'datum performance', 'investment esg', 'allianz climate', 'sustainability operation', 'allianz sustainability', 'allianz', 'bom', 'reinsurance', 'introduction sustainability', '2019 introduction', 'investment portfolio', 'natural catastrophe', 'investment management', 'operation allianz', 'insurance solution', 'allianz group', 'disclosure datum']\n\nTopic 6: ['volkswagen', 'volkswagen group', 'merck corporate', 'merck', 'strategy management', 'commercial vehicle', 'versum material', 'versum', 'plant process', 'responsibility 2019', 'darmstadt', 'passenger car', '2019 fact', 'tonne year', 'light commercial', 'life science', 'schistosomiasis', 'car light', 'intermolecular', 'material intermolecular']\n\nTopic 7: ['rwe', 'rwe sustainability', 'rwe group', 'lignite', 'opencast', 'hard coal', 'organisation management', 'recultivation', 'supply trading', 'opencast mine', 'board rwe', 'bettercoal', 'plant portfolio', 'rwe supply', '2020 rwe', 'appendix rwe', 'rwe code', 'rwe renewable', 'company rwe', 'employee rwe']\n\nTopic 8: ['merck corporate', 'merck', 'fact figure', 'approach component', 'versum material', 'versum', 'responsibility 2019', 'darmstadt', '2019 fact', 'component management', 'life science', 'schistosomiasis', 'intermolecular', 'material intermolecular', 'business sector', 'ehs', 'performance material', 'boundary management', 'nursing', 'process safety']\n\nNotes:\nfla: Fair Labor Association\noifr: Occupational Illness Frequency Rate\nekpi: Environmental KPI\nepra: European Public Real Estate Association\npimco: global investment management firm\nbom: Board of Management\nmeag: Munich Ergo Assetmanagement Gmbh\nbcg: Business Conduct Guidelines\ndkv: Deutsche Krankenversicherung\ncsb: Chemischer Sauerstoffbedarf\n"
     ]
    }
   ],
   "source": [
    "for topic in topic_clusters[:round(number_of_topics/2)-1]:\n",
    "    print(f\"{topic[0]}: {topic[1]}\\n\")\n",
    "\n",
    "print('Notes:\\nfla: Fair Labor Association\\noifr: Occupational Illness Frequency Rate\\nekpi: Environmental KPI\\nepra: European Public Real Estate Association\\npimco: global investment management firm\\nbom: Board of Management\\nmeag: Munich Ergo Assetmanagement Gmbh\\nbcg: Business Conduct Guidelines\\ndkv: Deutsche Krankenversicherung\\ncsb: Chemischer Sauerstoffbedarf')"
   ]
  },
  {
   "cell_type": "code",
   "execution_count": 447,
   "metadata": {
    "tags": []
   },
   "outputs": [
    {
     "output_type": "stream",
     "name": "stdout",
     "text": [
      "Topic 10: ['group limit', 'management start', 'financial group', 'start page', 't3', 'care 2020', 'section start', 'fresenius medical', 'fresenius', 'dialysis', 'corporate risk', '2020 non', 'privacy program', 'page information', 'limit assurance', 'human labor', 'ethic business', 'patient experience', 'code ethic', 'labor right']\n\nTopic 11: ['preserve nature', 'society indicator', 'nature contribution', 'resource people', 'practice resource', 'business preserve', 'siemens glance', 'annex siemens', 'information 2020', 'people society', 'glance governance', 'sustainability responsible', 'contribution sustainability', 'glance sustainability', 'manage board', 'siemens governance', 'environment preserve', 'environment sustainability', 'socialcontribution', 'annex glance']\n\n"
     ]
    }
   ],
   "source": [
    "for topic in topic_clusters[round(number_of_topics/2):]:\n",
    "    print(f\"{topic[0]}: {topic[1]}\\n\")"
   ]
  },
  {
   "cell_type": "code",
   "execution_count": null,
   "metadata": {},
   "outputs": [],
   "source": []
  }
 ]
}