{
 "metadata": {
  "language_info": {
   "codemirror_mode": {
    "name": "ipython",
    "version": 3
   },
   "file_extension": ".py",
   "mimetype": "text/x-python",
   "name": "python",
   "nbconvert_exporter": "python",
   "pygments_lexer": "ipython3",
   "version": "3.8.5"
  },
  "orig_nbformat": 2,
  "kernelspec": {
   "name": "pythonjvsc74a57bd0b6cdbf4b2e8750b414b2971ef1cd3ffc89f11df59e451aa0897a445218a679af",
   "display_name": "Python 3.8.5 64-bit ('nlp_env')"
  },
  "metadata": {
   "interpreter": {
    "hash": "b6cdbf4b2e8750b414b2971ef1cd3ffc89f11df59e451aa0897a445218a679af"
   }
  }
 },
 "nbformat": 4,
 "nbformat_minor": 2,
 "cells": [
  {
   "source": [
    "# Topic Modelling with LDA\n",
    "[Kaggle](https://www.kaggle.com/rcushen/topic-modelling-with-lsa-and-lda)"
   ],
   "cell_type": "markdown",
   "metadata": {}
  },
  {
   "source": [
    "## Imports"
   ],
   "cell_type": "markdown",
   "metadata": {}
  },
  {
   "cell_type": "code",
   "execution_count": 1,
   "metadata": {},
   "outputs": [],
   "source": [
    "import numpy as np\n",
    "import pandas as pd\n",
    "# from IPython.display import display\n",
    "# from tqdm import tqdm\n",
    "from collections import Counter\n",
    "# import ast\n",
    "\n",
    "import matplotlib.pyplot as plt\n",
    "# import matplotlib.mlab as mlab\n",
    "# import seaborn as sb\n",
    "\n",
    "from sklearn.feature_extraction.text import CountVectorizer\n",
    "# from textblob import TextBlob\n",
    "# import scipy.stats as stats\n",
    "\n",
    "from sklearn.decomposition import TruncatedSVD\n",
    "# from sklearn.decomposition import LatentDirichletAllocation\n",
    "# from sklearn.manifold import TSNE\n",
    "\n",
    "# from bokeh.plotting import figure, output_file, show\n",
    "# from bokeh.models import Label\n",
    "# from bokeh.io import output_notebook\n",
    "# output_notebook()\n",
    "\n",
    "# %matplotlib inline"
   ]
  },
  {
   "source": [
    "## Read in the data"
   ],
   "cell_type": "markdown",
   "metadata": {}
  },
  {
   "cell_type": "code",
   "execution_count": 2,
   "metadata": {},
   "outputs": [
    {
     "output_type": "execute_result",
     "data": {
      "text/plain": [
       "    Unnamed: 0                                         filepath lang  \\\n",
       "0            0                   ./reports/scraped/full/mtu.pdf  deu   \n",
       "1            1                ./reports/scraped/full/henkel.pdf  deu   \n",
       "2            2      ./reports/scraped/full/heidelbergcement.pdf  deu   \n",
       "3            3               ./reports/scraped/full/daimler.pdf  deu   \n",
       "4            4              ./reports/scraped/full/infineon.pdf  deu   \n",
       "5            5                 ./reports/scraped/full/dpdhl.pdf  deu   \n",
       "6            6          ./reports/scraped/full/volkswagenag.pdf  eng   \n",
       "7            7           ./reports/scraped/full/report.basf.pdf  eng   \n",
       "8            8             ./reports/scraped/full/fresenius.pdf  eng   \n",
       "9            9           ./reports/scraped/full/new.siemens.pdf  eng   \n",
       "10          10                 ./reports/scraped/full/group.pdf  eng   \n",
       "11          11       ./reports/scraped/full/deutsche-boerse.pdf  eng   \n",
       "12          12       ./reports/scraped/full/deutsche-wohnen.pdf  eng   \n",
       "13          13                   ./reports/scraped/full/eon.pdf  eng   \n",
       "14          14        ./reports/scraped/full/siemens-energy.pdf  eng   \n",
       "15          15          ./reports/scraped/full/adidas-group.pdf  eng   \n",
       "16          16              ./reports/scraped/full/munichre.pdf  eng   \n",
       "17          17  ./reports/scraped/full/freseniusmedicalcare.pdf  eng   \n",
       "\n",
       "                                                 text  number_of_pages  \n",
       "0   MTU\\n\\nAero Engines\\n\\nGeschäftsbericht\\n\\nMTU...              226  \n",
       "1     \\n\\nYa voneaus\\n\\n           \\n\\nzz\\nN\\n\\npr...              219  \n",
       "2    \\n \\n\\nHIEIDELBERGCEMENT\\n\\n  \\n   \\n  \\n    ...               96  \n",
       "3   DAIMIER\\n\\n \\n\\n   \\n\\nNachhaltigkeitsbericht ...              205  \n",
       "4    \\n\\nNachhaltigkeit bei Infineon\\n\\nInfineon\\n...               68  \n",
       "5   Deutsche Post DHL\\nGroup\\n\\nNACHHALTIGKEITSFAH...                2  \n",
       "6   VOLKSWAGEN\\n\\nAKTIENGESELLSCHAFT\\n\\n \\n\\nSUSTA...               97  \n",
       "7   About This Report 1 To Our Shareholders\\n\\nRes...               42  \n",
       "8   = FRESENIUS\\n\\n2020\\n\\n \\n\\nANNUAL REPORT\\nMed...              338  \n",
       "9   Nachhaltigkeits-\\ninformationen\\n\\n2020\\n\\n \\n...              150  \n",
       "10   \\n\\n \\n\\n   \\n\\na sustainable future.\\n\\nSust...              139  \n",
       "11   \\n\\n       \\n \\n\\nDEUTSCHE BORSE\\nGROUP\\n\\n \\...                7  \n",
       "12  Sustainability Report 2020\\n\\nFor people.\\nFor...              158  \n",
       "13  Slavery & Human\\nTrafficking Statement\\n\\nE.ON...                3  \n",
       "14  SIEMENS\\nClaleigen4\\n\\nSustainability Report 2...               80  \n",
       "15   \\n\\nPV p) | py). t)\\nSUS\\nds\\nREPORT\\n\\n \\n\\n...               84  \n",
       "16  Corporate\\nResponsibility\\nReport 2020\\n\\n \\n\\...              106  \n",
       "17  wes” FRESENIUS\\n~ MEDICAL CARE\\n\\n   \\n \\n\\nNO...               24  "
      ],
      "text/html": "<div>\n<style scoped>\n    .dataframe tbody tr th:only-of-type {\n        vertical-align: middle;\n    }\n\n    .dataframe tbody tr th {\n        vertical-align: top;\n    }\n\n    .dataframe thead th {\n        text-align: right;\n    }\n</style>\n<table border=\"1\" class=\"dataframe\">\n  <thead>\n    <tr style=\"text-align: right;\">\n      <th></th>\n      <th>Unnamed: 0</th>\n      <th>filepath</th>\n      <th>lang</th>\n      <th>text</th>\n      <th>number_of_pages</th>\n    </tr>\n  </thead>\n  <tbody>\n    <tr>\n      <th>0</th>\n      <td>0</td>\n      <td>./reports/scraped/full/mtu.pdf</td>\n      <td>deu</td>\n      <td>MTU\\n\\nAero Engines\\n\\nGeschäftsbericht\\n\\nMTU...</td>\n      <td>226</td>\n    </tr>\n    <tr>\n      <th>1</th>\n      <td>1</td>\n      <td>./reports/scraped/full/henkel.pdf</td>\n      <td>deu</td>\n      <td>\\n\\nYa voneaus\\n\\n           \\n\\nzz\\nN\\n\\npr...</td>\n      <td>219</td>\n    </tr>\n    <tr>\n      <th>2</th>\n      <td>2</td>\n      <td>./reports/scraped/full/heidelbergcement.pdf</td>\n      <td>deu</td>\n      <td>\\n \\n\\nHIEIDELBERGCEMENT\\n\\n  \\n   \\n  \\n    ...</td>\n      <td>96</td>\n    </tr>\n    <tr>\n      <th>3</th>\n      <td>3</td>\n      <td>./reports/scraped/full/daimler.pdf</td>\n      <td>deu</td>\n      <td>DAIMIER\\n\\n \\n\\n   \\n\\nNachhaltigkeitsbericht ...</td>\n      <td>205</td>\n    </tr>\n    <tr>\n      <th>4</th>\n      <td>4</td>\n      <td>./reports/scraped/full/infineon.pdf</td>\n      <td>deu</td>\n      <td>\\n\\nNachhaltigkeit bei Infineon\\n\\nInfineon\\n...</td>\n      <td>68</td>\n    </tr>\n    <tr>\n      <th>5</th>\n      <td>5</td>\n      <td>./reports/scraped/full/dpdhl.pdf</td>\n      <td>deu</td>\n      <td>Deutsche Post DHL\\nGroup\\n\\nNACHHALTIGKEITSFAH...</td>\n      <td>2</td>\n    </tr>\n    <tr>\n      <th>6</th>\n      <td>6</td>\n      <td>./reports/scraped/full/volkswagenag.pdf</td>\n      <td>eng</td>\n      <td>VOLKSWAGEN\\n\\nAKTIENGESELLSCHAFT\\n\\n \\n\\nSUSTA...</td>\n      <td>97</td>\n    </tr>\n    <tr>\n      <th>7</th>\n      <td>7</td>\n      <td>./reports/scraped/full/report.basf.pdf</td>\n      <td>eng</td>\n      <td>About This Report 1 To Our Shareholders\\n\\nRes...</td>\n      <td>42</td>\n    </tr>\n    <tr>\n      <th>8</th>\n      <td>8</td>\n      <td>./reports/scraped/full/fresenius.pdf</td>\n      <td>eng</td>\n      <td>= FRESENIUS\\n\\n2020\\n\\n \\n\\nANNUAL REPORT\\nMed...</td>\n      <td>338</td>\n    </tr>\n    <tr>\n      <th>9</th>\n      <td>9</td>\n      <td>./reports/scraped/full/new.siemens.pdf</td>\n      <td>eng</td>\n      <td>Nachhaltigkeits-\\ninformationen\\n\\n2020\\n\\n \\n...</td>\n      <td>150</td>\n    </tr>\n    <tr>\n      <th>10</th>\n      <td>10</td>\n      <td>./reports/scraped/full/group.pdf</td>\n      <td>eng</td>\n      <td>\\n\\n \\n\\n   \\n\\na sustainable future.\\n\\nSust...</td>\n      <td>139</td>\n    </tr>\n    <tr>\n      <th>11</th>\n      <td>11</td>\n      <td>./reports/scraped/full/deutsche-boerse.pdf</td>\n      <td>eng</td>\n      <td>\\n\\n       \\n \\n\\nDEUTSCHE BORSE\\nGROUP\\n\\n \\...</td>\n      <td>7</td>\n    </tr>\n    <tr>\n      <th>12</th>\n      <td>12</td>\n      <td>./reports/scraped/full/deutsche-wohnen.pdf</td>\n      <td>eng</td>\n      <td>Sustainability Report 2020\\n\\nFor people.\\nFor...</td>\n      <td>158</td>\n    </tr>\n    <tr>\n      <th>13</th>\n      <td>13</td>\n      <td>./reports/scraped/full/eon.pdf</td>\n      <td>eng</td>\n      <td>Slavery &amp; Human\\nTrafficking Statement\\n\\nE.ON...</td>\n      <td>3</td>\n    </tr>\n    <tr>\n      <th>14</th>\n      <td>14</td>\n      <td>./reports/scraped/full/siemens-energy.pdf</td>\n      <td>eng</td>\n      <td>SIEMENS\\nClaleigen4\\n\\nSustainability Report 2...</td>\n      <td>80</td>\n    </tr>\n    <tr>\n      <th>15</th>\n      <td>15</td>\n      <td>./reports/scraped/full/adidas-group.pdf</td>\n      <td>eng</td>\n      <td>\\n\\nPV p) | py). t)\\nSUS\\nds\\nREPORT\\n\\n \\n\\n...</td>\n      <td>84</td>\n    </tr>\n    <tr>\n      <th>16</th>\n      <td>16</td>\n      <td>./reports/scraped/full/munichre.pdf</td>\n      <td>eng</td>\n      <td>Corporate\\nResponsibility\\nReport 2020\\n\\n \\n\\...</td>\n      <td>106</td>\n    </tr>\n    <tr>\n      <th>17</th>\n      <td>17</td>\n      <td>./reports/scraped/full/freseniusmedicalcare.pdf</td>\n      <td>eng</td>\n      <td>wes” FRESENIUS\\n~ MEDICAL CARE\\n\\n   \\n \\n\\nNO...</td>\n      <td>24</td>\n    </tr>\n  </tbody>\n</table>\n</div>"
     },
     "metadata": {},
     "execution_count": 2
    }
   ],
   "source": [
    "reports = pd.read_csv('reports.csv')\n",
    "reports"
   ]
  },
  {
   "source": [
    "## Transform\n",
    "- exclude german texts\n",
    "- remove linebreaks\n",
    "- turn words to lowercase"
   ],
   "cell_type": "markdown",
   "metadata": {}
  },
  {
   "cell_type": "code",
   "execution_count": 3,
   "metadata": {},
   "outputs": [
    {
     "output_type": "execute_result",
     "data": {
      "text/plain": [
       "    Unnamed: 0                                         filepath lang  \\\n",
       "0            6          ./reports/scraped/full/volkswagenag.pdf  eng   \n",
       "1            7           ./reports/scraped/full/report.basf.pdf  eng   \n",
       "2            8             ./reports/scraped/full/fresenius.pdf  eng   \n",
       "3            9           ./reports/scraped/full/new.siemens.pdf  eng   \n",
       "4           10                 ./reports/scraped/full/group.pdf  eng   \n",
       "5           11       ./reports/scraped/full/deutsche-boerse.pdf  eng   \n",
       "6           12       ./reports/scraped/full/deutsche-wohnen.pdf  eng   \n",
       "7           13                   ./reports/scraped/full/eon.pdf  eng   \n",
       "8           14        ./reports/scraped/full/siemens-energy.pdf  eng   \n",
       "9           15          ./reports/scraped/full/adidas-group.pdf  eng   \n",
       "10          16              ./reports/scraped/full/munichre.pdf  eng   \n",
       "11          17  ./reports/scraped/full/freseniusmedicalcare.pdf  eng   \n",
       "\n",
       "                                                 text  number_of_pages  \n",
       "0   VOLKSWAGEN\\n\\nAKTIENGESELLSCHAFT\\n\\n \\n\\nSUSTA...               97  \n",
       "1   About This Report 1 To Our Shareholders\\n\\nRes...               42  \n",
       "2   = FRESENIUS\\n\\n2020\\n\\n \\n\\nANNUAL REPORT\\nMed...              338  \n",
       "3   Nachhaltigkeits-\\ninformationen\\n\\n2020\\n\\n \\n...              150  \n",
       "4    \\n\\n \\n\\n   \\n\\na sustainable future.\\n\\nSust...              139  \n",
       "5    \\n\\n       \\n \\n\\nDEUTSCHE BORSE\\nGROUP\\n\\n \\...                7  \n",
       "6   Sustainability Report 2020\\n\\nFor people.\\nFor...              158  \n",
       "7   Slavery & Human\\nTrafficking Statement\\n\\nE.ON...                3  \n",
       "8   SIEMENS\\nClaleigen4\\n\\nSustainability Report 2...               80  \n",
       "9    \\n\\nPV p) | py). t)\\nSUS\\nds\\nREPORT\\n\\n \\n\\n...               84  \n",
       "10  Corporate\\nResponsibility\\nReport 2020\\n\\n \\n\\...              106  \n",
       "11  wes” FRESENIUS\\n~ MEDICAL CARE\\n\\n   \\n \\n\\nNO...               24  "
      ],
      "text/html": "<div>\n<style scoped>\n    .dataframe tbody tr th:only-of-type {\n        vertical-align: middle;\n    }\n\n    .dataframe tbody tr th {\n        vertical-align: top;\n    }\n\n    .dataframe thead th {\n        text-align: right;\n    }\n</style>\n<table border=\"1\" class=\"dataframe\">\n  <thead>\n    <tr style=\"text-align: right;\">\n      <th></th>\n      <th>Unnamed: 0</th>\n      <th>filepath</th>\n      <th>lang</th>\n      <th>text</th>\n      <th>number_of_pages</th>\n    </tr>\n  </thead>\n  <tbody>\n    <tr>\n      <th>0</th>\n      <td>6</td>\n      <td>./reports/scraped/full/volkswagenag.pdf</td>\n      <td>eng</td>\n      <td>VOLKSWAGEN\\n\\nAKTIENGESELLSCHAFT\\n\\n \\n\\nSUSTA...</td>\n      <td>97</td>\n    </tr>\n    <tr>\n      <th>1</th>\n      <td>7</td>\n      <td>./reports/scraped/full/report.basf.pdf</td>\n      <td>eng</td>\n      <td>About This Report 1 To Our Shareholders\\n\\nRes...</td>\n      <td>42</td>\n    </tr>\n    <tr>\n      <th>2</th>\n      <td>8</td>\n      <td>./reports/scraped/full/fresenius.pdf</td>\n      <td>eng</td>\n      <td>= FRESENIUS\\n\\n2020\\n\\n \\n\\nANNUAL REPORT\\nMed...</td>\n      <td>338</td>\n    </tr>\n    <tr>\n      <th>3</th>\n      <td>9</td>\n      <td>./reports/scraped/full/new.siemens.pdf</td>\n      <td>eng</td>\n      <td>Nachhaltigkeits-\\ninformationen\\n\\n2020\\n\\n \\n...</td>\n      <td>150</td>\n    </tr>\n    <tr>\n      <th>4</th>\n      <td>10</td>\n      <td>./reports/scraped/full/group.pdf</td>\n      <td>eng</td>\n      <td>\\n\\n \\n\\n   \\n\\na sustainable future.\\n\\nSust...</td>\n      <td>139</td>\n    </tr>\n    <tr>\n      <th>5</th>\n      <td>11</td>\n      <td>./reports/scraped/full/deutsche-boerse.pdf</td>\n      <td>eng</td>\n      <td>\\n\\n       \\n \\n\\nDEUTSCHE BORSE\\nGROUP\\n\\n \\...</td>\n      <td>7</td>\n    </tr>\n    <tr>\n      <th>6</th>\n      <td>12</td>\n      <td>./reports/scraped/full/deutsche-wohnen.pdf</td>\n      <td>eng</td>\n      <td>Sustainability Report 2020\\n\\nFor people.\\nFor...</td>\n      <td>158</td>\n    </tr>\n    <tr>\n      <th>7</th>\n      <td>13</td>\n      <td>./reports/scraped/full/eon.pdf</td>\n      <td>eng</td>\n      <td>Slavery &amp; Human\\nTrafficking Statement\\n\\nE.ON...</td>\n      <td>3</td>\n    </tr>\n    <tr>\n      <th>8</th>\n      <td>14</td>\n      <td>./reports/scraped/full/siemens-energy.pdf</td>\n      <td>eng</td>\n      <td>SIEMENS\\nClaleigen4\\n\\nSustainability Report 2...</td>\n      <td>80</td>\n    </tr>\n    <tr>\n      <th>9</th>\n      <td>15</td>\n      <td>./reports/scraped/full/adidas-group.pdf</td>\n      <td>eng</td>\n      <td>\\n\\nPV p) | py). t)\\nSUS\\nds\\nREPORT\\n\\n \\n\\n...</td>\n      <td>84</td>\n    </tr>\n    <tr>\n      <th>10</th>\n      <td>16</td>\n      <td>./reports/scraped/full/munichre.pdf</td>\n      <td>eng</td>\n      <td>Corporate\\nResponsibility\\nReport 2020\\n\\n \\n\\...</td>\n      <td>106</td>\n    </tr>\n    <tr>\n      <th>11</th>\n      <td>17</td>\n      <td>./reports/scraped/full/freseniusmedicalcare.pdf</td>\n      <td>eng</td>\n      <td>wes” FRESENIUS\\n~ MEDICAL CARE\\n\\n   \\n \\n\\nNO...</td>\n      <td>24</td>\n    </tr>\n  </tbody>\n</table>\n</div>"
     },
     "metadata": {},
     "execution_count": 3
    }
   ],
   "source": [
    "# exclude german texts\n",
    "reports = reports[reports['lang'] == 'eng']\n",
    "reports.reset_index(drop=True, inplace=True)\n",
    "reports"
   ]
  },
  {
   "cell_type": "code",
   "execution_count": 4,
   "metadata": {},
   "outputs": [
    {
     "output_type": "stream",
     "name": "stderr",
     "text": [
      "<ipython-input-4-007b9df3d4b1>:2: SettingWithCopyWarning: \nA value is trying to be set on a copy of a slice from a DataFrame.\nTry using .loc[row_indexer,col_indexer] = value instead\n\nSee the caveats in the documentation: https://pandas.pydata.org/pandas-docs/stable/user_guide/indexing.html#returning-a-view-versus-a-copy\n  reports['text'] = reports['text'].str.replace(r'\\s+',' ', regex=True)\n"
     ]
    }
   ],
   "source": [
    "# remove linebreaks\n",
    "reports['text'] = reports['text'].str.replace(r'\\s+',' ', regex=True)"
   ]
  },
  {
   "cell_type": "code",
   "execution_count": 5,
   "metadata": {},
   "outputs": [
    {
     "output_type": "stream",
     "name": "stderr",
     "text": [
      "/home/fiete/Documents/studium/fuehrung_und_nachhaltigkeit/nlp_env/lib/python3.8/site-packages/pandas/core/generic.py:5494: SettingWithCopyWarning: \nA value is trying to be set on a copy of a slice from a DataFrame.\nTry using .loc[row_indexer,col_indexer] = value instead\n\nSee the caveats in the documentation: https://pandas.pydata.org/pandas-docs/stable/user_guide/indexing.html#returning-a-view-versus-a-copy\n  self[name] = value\n"
     ]
    },
    {
     "output_type": "execute_result",
     "data": {
      "text/plain": [
       "   Unnamed: 0                                 filepath lang  \\\n",
       "0           6  ./reports/scraped/full/volkswagenag.pdf  eng   \n",
       "1           7   ./reports/scraped/full/report.basf.pdf  eng   \n",
       "2           8     ./reports/scraped/full/fresenius.pdf  eng   \n",
       "3           9   ./reports/scraped/full/new.siemens.pdf  eng   \n",
       "4          10         ./reports/scraped/full/group.pdf  eng   \n",
       "\n",
       "                                                text  number_of_pages  \n",
       "0  volkswagen aktiengesellschaft sustainability r...               97  \n",
       "1  about this report 1 to our shareholders respon...               42  \n",
       "2  = fresenius 2020 annual report media hub group...              338  \n",
       "3  nachhaltigkeits- informationen 2020 > °. . , °...              150  \n",
       "4   a sustainable future. sustainability report 2...              139  "
      ],
      "text/html": "<div>\n<style scoped>\n    .dataframe tbody tr th:only-of-type {\n        vertical-align: middle;\n    }\n\n    .dataframe tbody tr th {\n        vertical-align: top;\n    }\n\n    .dataframe thead th {\n        text-align: right;\n    }\n</style>\n<table border=\"1\" class=\"dataframe\">\n  <thead>\n    <tr style=\"text-align: right;\">\n      <th></th>\n      <th>Unnamed: 0</th>\n      <th>filepath</th>\n      <th>lang</th>\n      <th>text</th>\n      <th>number_of_pages</th>\n    </tr>\n  </thead>\n  <tbody>\n    <tr>\n      <th>0</th>\n      <td>6</td>\n      <td>./reports/scraped/full/volkswagenag.pdf</td>\n      <td>eng</td>\n      <td>volkswagen aktiengesellschaft sustainability r...</td>\n      <td>97</td>\n    </tr>\n    <tr>\n      <th>1</th>\n      <td>7</td>\n      <td>./reports/scraped/full/report.basf.pdf</td>\n      <td>eng</td>\n      <td>about this report 1 to our shareholders respon...</td>\n      <td>42</td>\n    </tr>\n    <tr>\n      <th>2</th>\n      <td>8</td>\n      <td>./reports/scraped/full/fresenius.pdf</td>\n      <td>eng</td>\n      <td>= fresenius 2020 annual report media hub group...</td>\n      <td>338</td>\n    </tr>\n    <tr>\n      <th>3</th>\n      <td>9</td>\n      <td>./reports/scraped/full/new.siemens.pdf</td>\n      <td>eng</td>\n      <td>nachhaltigkeits- informationen 2020 &gt; °. . , °...</td>\n      <td>150</td>\n    </tr>\n    <tr>\n      <th>4</th>\n      <td>10</td>\n      <td>./reports/scraped/full/group.pdf</td>\n      <td>eng</td>\n      <td>a sustainable future. sustainability report 2...</td>\n      <td>139</td>\n    </tr>\n  </tbody>\n</table>\n</div>"
     },
     "metadata": {},
     "execution_count": 5
    }
   ],
   "source": [
    "# turn words to lowercase\n",
    "reports.text = reports.text.str.lower()\n",
    "reports.head()"
   ]
  },
  {
   "cell_type": "code",
   "execution_count": 6,
   "metadata": {},
   "outputs": [],
   "source": [
    "# Define helper functions\n",
    "def get_top_n_words_for_fig(n_top_words, count_vectorizer, text_data):\n",
    "    '''\n",
    "    returns a tuple of the top n words in a sample and their \n",
    "    accompanying counts, given a CountVectorizer object and text sample\n",
    "    '''\n",
    "    vectorized_headlines = count_vectorizer.fit_transform(text_data.values)\n",
    "    vectorized_total = np.sum(vectorized_headlines, axis=0)\n",
    "    word_indices = np.flip(np.argsort(vectorized_total)[0,:], 1)\n",
    "    word_values = np.flip(np.sort(vectorized_total)[0,:],1)\n",
    "    \n",
    "    word_vectors = np.zeros((n_top_words, vectorized_headlines.shape[1]))\n",
    "    for i in range(n_top_words):\n",
    "        word_vectors[i,word_indices[0,i]] = 1\n",
    "\n",
    "    words = [word[0].encode('ascii').decode('utf-8') for \n",
    "             word in count_vectorizer.inverse_transform(word_vectors)]\n",
    "\n",
    "    return (words, word_values[0,:n_top_words].tolist()[0])\n",
    "\n"
   ]
  },
  {
   "cell_type": "code",
   "execution_count": 7,
   "metadata": {},
   "outputs": [
    {
     "output_type": "display_data",
     "data": {
      "text/plain": "<Figure size 1152x576 with 1 Axes>",
      "image/svg+xml": "<?xml version=\"1.0\" encoding=\"utf-8\" standalone=\"no\"?>\n<!DOCTYPE svg PUBLIC \"-//W3C//DTD SVG 1.1//EN\"\n  \"http://www.w3.org/Graphics/SVG/1.1/DTD/svg11.dtd\">\n<svg height=\"552.06375pt\" version=\"1.1\" viewBox=\"0 0 953.328125 552.06375\" width=\"953.328125pt\" xmlns=\"http://www.w3.org/2000/svg\" xmlns:xlink=\"http://www.w3.org/1999/xlink\">\n <metadata>\n  <rdf:RDF xmlns:cc=\"http://creativecommons.org/ns#\" xmlns:dc=\"http://purl.org/dc/elements/1.1/\" xmlns:rdf=\"http://www.w3.org/1999/02/22-rdf-syntax-ns#\">\n   <cc:Work>\n    <dc:type rdf:resource=\"http://purl.org/dc/dcmitype/StillImage\"/>\n    <dc:date>2021-05-29T22:42:02.781211</dc:date>\n    <dc:format>image/svg+xml</dc:format>\n    <dc:creator>\n     <cc:Agent>\n      <dc:title>Matplotlib v3.4.2, https://matplotlib.org/</dc:title>\n     </cc:Agent>\n    </dc:creator>\n   </cc:Work>\n  </rdf:RDF>\n </metadata>\n <defs>\n  <style type=\"text/css\">*{stroke-linecap:butt;stroke-linejoin:round;}</style>\n </defs>\n <g id=\"figure_1\">\n  <g id=\"patch_1\">\n   <path d=\"M 0 552.06375 \nL 953.328125 552.06375 \nL 953.328125 0 \nL 0 0 \nz\n\" style=\"fill:none;\"/>\n  </g>\n  <g id=\"axes_1\">\n   <g id=\"patch_2\">\n    <path d=\"M 53.328125 457.198125 \nL 946.128125 457.198125 \nL 946.128125 22.318125 \nL 53.328125 22.318125 \nz\n\" style=\"fill:#ffffff;\"/>\n   </g>\n   <g id=\"patch_3\">\n    <path clip-path=\"url(#p510b08b5cd)\" d=\"M 93.909943 457.198125 \nL 137.782179 457.198125 \nL 137.782179 43.026696 \nL 93.909943 43.026696 \nz\n\" style=\"fill:#1f77b4;\"/>\n   </g>\n   <g id=\"patch_4\">\n    <path clip-path=\"url(#p510b08b5cd)\" d=\"M 148.750238 457.198125 \nL 192.622474 457.198125 \nL 192.622474 72.018696 \nL 148.750238 72.018696 \nz\n\" style=\"fill:#1f77b4;\"/>\n   </g>\n   <g id=\"patch_5\">\n    <path clip-path=\"url(#p510b08b5cd)\" d=\"M 203.590533 457.198125 \nL 247.462769 457.198125 \nL 247.462769 83.956579 \nL 203.590533 83.956579 \nz\n\" style=\"fill:#1f77b4;\"/>\n   </g>\n   <g id=\"patch_6\">\n    <path clip-path=\"url(#p510b08b5cd)\" d=\"M 258.430828 457.198125 \nL 302.303064 457.198125 \nL 302.303064 90.16915 \nL 258.430828 90.16915 \nz\n\" style=\"fill:#1f77b4;\"/>\n   </g>\n   <g id=\"patch_7\">\n    <path clip-path=\"url(#p510b08b5cd)\" d=\"M 313.271123 457.198125 \nL 357.143358 457.198125 \nL 357.143358 109.41594 \nL 313.271123 109.41594 \nz\n\" style=\"fill:#1f77b4;\"/>\n   </g>\n   <g id=\"patch_8\">\n    <path clip-path=\"url(#p510b08b5cd)\" d=\"M 368.111417 457.198125 \nL 411.983653 457.198125 \nL 411.983653 171.419839 \nL 368.111417 171.419839 \nz\n\" style=\"fill:#1f77b4;\"/>\n   </g>\n   <g id=\"patch_9\">\n    <path clip-path=\"url(#p510b08b5cd)\" d=\"M 422.951712 457.198125 \nL 466.823948 457.198125 \nL 466.823948 222.947638 \nL 422.951712 222.947638 \nz\n\" style=\"fill:#1f77b4;\"/>\n   </g>\n   <g id=\"patch_10\">\n    <path clip-path=\"url(#p510b08b5cd)\" d=\"M 477.792007 457.198125 \nL 521.664243 457.198125 \nL 521.664243 248.163369 \nL 477.792007 248.163369 \nz\n\" style=\"fill:#1f77b4;\"/>\n   </g>\n   <g id=\"patch_11\">\n    <path clip-path=\"url(#p510b08b5cd)\" d=\"M 532.632302 457.198125 \nL 576.504538 457.198125 \nL 576.504538 251.817822 \nL 532.632302 251.817822 \nz\n\" style=\"fill:#1f77b4;\"/>\n   </g>\n   <g id=\"patch_12\">\n    <path clip-path=\"url(#p510b08b5cd)\" d=\"M 587.472597 457.198125 \nL 631.344833 457.198125 \nL 631.344833 267.531974 \nL 587.472597 267.531974 \nz\n\" style=\"fill:#1f77b4;\"/>\n   </g>\n   <g id=\"patch_13\">\n    <path clip-path=\"url(#p510b08b5cd)\" d=\"M 642.312892 457.198125 \nL 686.185127 457.198125 \nL 686.185127 268.506495 \nL 642.312892 268.506495 \nz\n\" style=\"fill:#1f77b4;\"/>\n   </g>\n   <g id=\"patch_14\">\n    <path clip-path=\"url(#p510b08b5cd)\" d=\"M 697.153186 457.198125 \nL 741.025422 457.198125 \nL 741.025422 272.160949 \nL 697.153186 272.160949 \nz\n\" style=\"fill:#1f77b4;\"/>\n   </g>\n   <g id=\"patch_15\">\n    <path clip-path=\"url(#p510b08b5cd)\" d=\"M 751.993481 457.198125 \nL 795.865717 457.198125 \nL 795.865717 279.348041 \nL 751.993481 279.348041 \nz\n\" style=\"fill:#1f77b4;\"/>\n   </g>\n   <g id=\"patch_16\">\n    <path clip-path=\"url(#p510b08b5cd)\" d=\"M 806.833776 457.198125 \nL 850.706012 457.198125 \nL 850.706012 295.549453 \nL 806.833776 295.549453 \nz\n\" style=\"fill:#1f77b4;\"/>\n   </g>\n   <g id=\"patch_17\">\n    <path clip-path=\"url(#p510b08b5cd)\" d=\"M 861.674071 457.198125 \nL 905.546307 457.198125 \nL 905.546307 300.178428 \nL 861.674071 300.178428 \nz\n\" style=\"fill:#1f77b4;\"/>\n   </g>\n   <g id=\"matplotlib.axis_1\">\n    <g id=\"xtick_1\">\n     <g id=\"line2d_1\">\n      <defs>\n       <path d=\"M 0 0 \nL 0 3.5 \n\" id=\"meeebb7fabe\" style=\"stroke:#000000;stroke-width:0.8;\"/>\n      </defs>\n      <g>\n       <use style=\"stroke:#000000;stroke-width:0.8;\" x=\"115.846061\" xlink:href=\"#meeebb7fabe\" y=\"457.198125\"/>\n      </g>\n     </g>\n     <g id=\"text_1\">\n      <!-- 2020 -->\n      <g transform=\"translate(118.605436 489.648125)rotate(-90)scale(0.1 -0.1)\">\n       <defs>\n        <path d=\"M 1228 531 \nL 3431 531 \nL 3431 0 \nL 469 0 \nL 469 531 \nQ 828 903 1448 1529 \nQ 2069 2156 2228 2338 \nQ 2531 2678 2651 2914 \nQ 2772 3150 2772 3378 \nQ 2772 3750 2511 3984 \nQ 2250 4219 1831 4219 \nQ 1534 4219 1204 4116 \nQ 875 4013 500 3803 \nL 500 4441 \nQ 881 4594 1212 4672 \nQ 1544 4750 1819 4750 \nQ 2544 4750 2975 4387 \nQ 3406 4025 3406 3419 \nQ 3406 3131 3298 2873 \nQ 3191 2616 2906 2266 \nQ 2828 2175 2409 1742 \nQ 1991 1309 1228 531 \nz\n\" id=\"DejaVuSans-32\" transform=\"scale(0.015625)\"/>\n        <path d=\"M 2034 4250 \nQ 1547 4250 1301 3770 \nQ 1056 3291 1056 2328 \nQ 1056 1369 1301 889 \nQ 1547 409 2034 409 \nQ 2525 409 2770 889 \nQ 3016 1369 3016 2328 \nQ 3016 3291 2770 3770 \nQ 2525 4250 2034 4250 \nz\nM 2034 4750 \nQ 2819 4750 3233 4129 \nQ 3647 3509 3647 2328 \nQ 3647 1150 3233 529 \nQ 2819 -91 2034 -91 \nQ 1250 -91 836 529 \nQ 422 1150 422 2328 \nQ 422 3509 836 4129 \nQ 1250 4750 2034 4750 \nz\n\" id=\"DejaVuSans-30\" transform=\"scale(0.015625)\"/>\n       </defs>\n       <use xlink:href=\"#DejaVuSans-32\"/>\n       <use x=\"63.623047\" xlink:href=\"#DejaVuSans-30\"/>\n       <use x=\"127.246094\" xlink:href=\"#DejaVuSans-32\"/>\n       <use x=\"190.869141\" xlink:href=\"#DejaVuSans-30\"/>\n      </g>\n     </g>\n    </g>\n    <g id=\"xtick_2\">\n     <g id=\"line2d_2\">\n      <g>\n       <use style=\"stroke:#000000;stroke-width:0.8;\" x=\"170.686356\" xlink:href=\"#meeebb7fabe\" y=\"457.198125\"/>\n      </g>\n     </g>\n     <g id=\"text_2\">\n      <!-- fresenius -->\n      <g transform=\"translate(173.445731 509.7825)rotate(-90)scale(0.1 -0.1)\">\n       <defs>\n        <path d=\"M 2375 4863 \nL 2375 4384 \nL 1825 4384 \nQ 1516 4384 1395 4259 \nQ 1275 4134 1275 3809 \nL 1275 3500 \nL 2222 3500 \nL 2222 3053 \nL 1275 3053 \nL 1275 0 \nL 697 0 \nL 697 3053 \nL 147 3053 \nL 147 3500 \nL 697 3500 \nL 697 3744 \nQ 697 4328 969 4595 \nQ 1241 4863 1831 4863 \nL 2375 4863 \nz\n\" id=\"DejaVuSans-66\" transform=\"scale(0.015625)\"/>\n        <path d=\"M 2631 2963 \nQ 2534 3019 2420 3045 \nQ 2306 3072 2169 3072 \nQ 1681 3072 1420 2755 \nQ 1159 2438 1159 1844 \nL 1159 0 \nL 581 0 \nL 581 3500 \nL 1159 3500 \nL 1159 2956 \nQ 1341 3275 1631 3429 \nQ 1922 3584 2338 3584 \nQ 2397 3584 2469 3576 \nQ 2541 3569 2628 3553 \nL 2631 2963 \nz\n\" id=\"DejaVuSans-72\" transform=\"scale(0.015625)\"/>\n        <path d=\"M 3597 1894 \nL 3597 1613 \nL 953 1613 \nQ 991 1019 1311 708 \nQ 1631 397 2203 397 \nQ 2534 397 2845 478 \nQ 3156 559 3463 722 \nL 3463 178 \nQ 3153 47 2828 -22 \nQ 2503 -91 2169 -91 \nQ 1331 -91 842 396 \nQ 353 884 353 1716 \nQ 353 2575 817 3079 \nQ 1281 3584 2069 3584 \nQ 2775 3584 3186 3129 \nQ 3597 2675 3597 1894 \nz\nM 3022 2063 \nQ 3016 2534 2758 2815 \nQ 2500 3097 2075 3097 \nQ 1594 3097 1305 2825 \nQ 1016 2553 972 2059 \nL 3022 2063 \nz\n\" id=\"DejaVuSans-65\" transform=\"scale(0.015625)\"/>\n        <path d=\"M 2834 3397 \nL 2834 2853 \nQ 2591 2978 2328 3040 \nQ 2066 3103 1784 3103 \nQ 1356 3103 1142 2972 \nQ 928 2841 928 2578 \nQ 928 2378 1081 2264 \nQ 1234 2150 1697 2047 \nL 1894 2003 \nQ 2506 1872 2764 1633 \nQ 3022 1394 3022 966 \nQ 3022 478 2636 193 \nQ 2250 -91 1575 -91 \nQ 1294 -91 989 -36 \nQ 684 19 347 128 \nL 347 722 \nQ 666 556 975 473 \nQ 1284 391 1588 391 \nQ 1994 391 2212 530 \nQ 2431 669 2431 922 \nQ 2431 1156 2273 1281 \nQ 2116 1406 1581 1522 \nL 1381 1569 \nQ 847 1681 609 1914 \nQ 372 2147 372 2553 \nQ 372 3047 722 3315 \nQ 1072 3584 1716 3584 \nQ 2034 3584 2315 3537 \nQ 2597 3491 2834 3397 \nz\n\" id=\"DejaVuSans-73\" transform=\"scale(0.015625)\"/>\n        <path d=\"M 3513 2113 \nL 3513 0 \nL 2938 0 \nL 2938 2094 \nQ 2938 2591 2744 2837 \nQ 2550 3084 2163 3084 \nQ 1697 3084 1428 2787 \nQ 1159 2491 1159 1978 \nL 1159 0 \nL 581 0 \nL 581 3500 \nL 1159 3500 \nL 1159 2956 \nQ 1366 3272 1645 3428 \nQ 1925 3584 2291 3584 \nQ 2894 3584 3203 3211 \nQ 3513 2838 3513 2113 \nz\n\" id=\"DejaVuSans-6e\" transform=\"scale(0.015625)\"/>\n        <path d=\"M 603 3500 \nL 1178 3500 \nL 1178 0 \nL 603 0 \nL 603 3500 \nz\nM 603 4863 \nL 1178 4863 \nL 1178 4134 \nL 603 4134 \nL 603 4863 \nz\n\" id=\"DejaVuSans-69\" transform=\"scale(0.015625)\"/>\n        <path d=\"M 544 1381 \nL 544 3500 \nL 1119 3500 \nL 1119 1403 \nQ 1119 906 1312 657 \nQ 1506 409 1894 409 \nQ 2359 409 2629 706 \nQ 2900 1003 2900 1516 \nL 2900 3500 \nL 3475 3500 \nL 3475 0 \nL 2900 0 \nL 2900 538 \nQ 2691 219 2414 64 \nQ 2138 -91 1772 -91 \nQ 1169 -91 856 284 \nQ 544 659 544 1381 \nz\nM 1991 3584 \nL 1991 3584 \nz\n\" id=\"DejaVuSans-75\" transform=\"scale(0.015625)\"/>\n       </defs>\n       <use xlink:href=\"#DejaVuSans-66\"/>\n       <use x=\"35.205078\" xlink:href=\"#DejaVuSans-72\"/>\n       <use x=\"74.068359\" xlink:href=\"#DejaVuSans-65\"/>\n       <use x=\"135.591797\" xlink:href=\"#DejaVuSans-73\"/>\n       <use x=\"187.691406\" xlink:href=\"#DejaVuSans-65\"/>\n       <use x=\"249.214844\" xlink:href=\"#DejaVuSans-6e\"/>\n       <use x=\"312.59375\" xlink:href=\"#DejaVuSans-69\"/>\n       <use x=\"340.376953\" xlink:href=\"#DejaVuSans-75\"/>\n       <use x=\"403.755859\" xlink:href=\"#DejaVuSans-73\"/>\n      </g>\n     </g>\n    </g>\n    <g id=\"xtick_3\">\n     <g id=\"line2d_3\">\n      <g>\n       <use style=\"stroke:#000000;stroke-width:0.8;\" x=\"225.526651\" xlink:href=\"#meeebb7fabe\" y=\"457.198125\"/>\n      </g>\n     </g>\n     <g id=\"text_3\">\n      <!-- management -->\n      <g transform=\"translate(228.286026 531.185625)rotate(-90)scale(0.1 -0.1)\">\n       <defs>\n        <path d=\"M 3328 2828 \nQ 3544 3216 3844 3400 \nQ 4144 3584 4550 3584 \nQ 5097 3584 5394 3201 \nQ 5691 2819 5691 2113 \nL 5691 0 \nL 5113 0 \nL 5113 2094 \nQ 5113 2597 4934 2840 \nQ 4756 3084 4391 3084 \nQ 3944 3084 3684 2787 \nQ 3425 2491 3425 1978 \nL 3425 0 \nL 2847 0 \nL 2847 2094 \nQ 2847 2600 2669 2842 \nQ 2491 3084 2119 3084 \nQ 1678 3084 1418 2786 \nQ 1159 2488 1159 1978 \nL 1159 0 \nL 581 0 \nL 581 3500 \nL 1159 3500 \nL 1159 2956 \nQ 1356 3278 1631 3431 \nQ 1906 3584 2284 3584 \nQ 2666 3584 2933 3390 \nQ 3200 3197 3328 2828 \nz\n\" id=\"DejaVuSans-6d\" transform=\"scale(0.015625)\"/>\n        <path d=\"M 2194 1759 \nQ 1497 1759 1228 1600 \nQ 959 1441 959 1056 \nQ 959 750 1161 570 \nQ 1363 391 1709 391 \nQ 2188 391 2477 730 \nQ 2766 1069 2766 1631 \nL 2766 1759 \nL 2194 1759 \nz\nM 3341 1997 \nL 3341 0 \nL 2766 0 \nL 2766 531 \nQ 2569 213 2275 61 \nQ 1981 -91 1556 -91 \nQ 1019 -91 701 211 \nQ 384 513 384 1019 \nQ 384 1609 779 1909 \nQ 1175 2209 1959 2209 \nL 2766 2209 \nL 2766 2266 \nQ 2766 2663 2505 2880 \nQ 2244 3097 1772 3097 \nQ 1472 3097 1187 3025 \nQ 903 2953 641 2809 \nL 641 3341 \nQ 956 3463 1253 3523 \nQ 1550 3584 1831 3584 \nQ 2591 3584 2966 3190 \nQ 3341 2797 3341 1997 \nz\n\" id=\"DejaVuSans-61\" transform=\"scale(0.015625)\"/>\n        <path d=\"M 2906 1791 \nQ 2906 2416 2648 2759 \nQ 2391 3103 1925 3103 \nQ 1463 3103 1205 2759 \nQ 947 2416 947 1791 \nQ 947 1169 1205 825 \nQ 1463 481 1925 481 \nQ 2391 481 2648 825 \nQ 2906 1169 2906 1791 \nz\nM 3481 434 \nQ 3481 -459 3084 -895 \nQ 2688 -1331 1869 -1331 \nQ 1566 -1331 1297 -1286 \nQ 1028 -1241 775 -1147 \nL 775 -588 \nQ 1028 -725 1275 -790 \nQ 1522 -856 1778 -856 \nQ 2344 -856 2625 -561 \nQ 2906 -266 2906 331 \nL 2906 616 \nQ 2728 306 2450 153 \nQ 2172 0 1784 0 \nQ 1141 0 747 490 \nQ 353 981 353 1791 \nQ 353 2603 747 3093 \nQ 1141 3584 1784 3584 \nQ 2172 3584 2450 3431 \nQ 2728 3278 2906 2969 \nL 2906 3500 \nL 3481 3500 \nL 3481 434 \nz\n\" id=\"DejaVuSans-67\" transform=\"scale(0.015625)\"/>\n        <path d=\"M 1172 4494 \nL 1172 3500 \nL 2356 3500 \nL 2356 3053 \nL 1172 3053 \nL 1172 1153 \nQ 1172 725 1289 603 \nQ 1406 481 1766 481 \nL 2356 481 \nL 2356 0 \nL 1766 0 \nQ 1100 0 847 248 \nQ 594 497 594 1153 \nL 594 3053 \nL 172 3053 \nL 172 3500 \nL 594 3500 \nL 594 4494 \nL 1172 4494 \nz\n\" id=\"DejaVuSans-74\" transform=\"scale(0.015625)\"/>\n       </defs>\n       <use xlink:href=\"#DejaVuSans-6d\"/>\n       <use x=\"97.412109\" xlink:href=\"#DejaVuSans-61\"/>\n       <use x=\"158.691406\" xlink:href=\"#DejaVuSans-6e\"/>\n       <use x=\"222.070312\" xlink:href=\"#DejaVuSans-61\"/>\n       <use x=\"283.349609\" xlink:href=\"#DejaVuSans-67\"/>\n       <use x=\"346.826172\" xlink:href=\"#DejaVuSans-65\"/>\n       <use x=\"408.349609\" xlink:href=\"#DejaVuSans-6d\"/>\n       <use x=\"505.761719\" xlink:href=\"#DejaVuSans-65\"/>\n       <use x=\"567.285156\" xlink:href=\"#DejaVuSans-6e\"/>\n       <use x=\"630.664062\" xlink:href=\"#DejaVuSans-74\"/>\n      </g>\n     </g>\n    </g>\n    <g id=\"xtick_4\">\n     <g id=\"line2d_4\">\n      <g>\n       <use style=\"stroke:#000000;stroke-width:0.8;\" x=\"280.366946\" xlink:href=\"#meeebb7fabe\" y=\"457.198125\"/>\n      </g>\n     </g>\n     <g id=\"text_4\">\n      <!-- group -->\n      <g transform=\"translate(283.126321 493.237187)rotate(-90)scale(0.1 -0.1)\">\n       <defs>\n        <path d=\"M 1959 3097 \nQ 1497 3097 1228 2736 \nQ 959 2375 959 1747 \nQ 959 1119 1226 758 \nQ 1494 397 1959 397 \nQ 2419 397 2687 759 \nQ 2956 1122 2956 1747 \nQ 2956 2369 2687 2733 \nQ 2419 3097 1959 3097 \nz\nM 1959 3584 \nQ 2709 3584 3137 3096 \nQ 3566 2609 3566 1747 \nQ 3566 888 3137 398 \nQ 2709 -91 1959 -91 \nQ 1206 -91 779 398 \nQ 353 888 353 1747 \nQ 353 2609 779 3096 \nQ 1206 3584 1959 3584 \nz\n\" id=\"DejaVuSans-6f\" transform=\"scale(0.015625)\"/>\n        <path d=\"M 1159 525 \nL 1159 -1331 \nL 581 -1331 \nL 581 3500 \nL 1159 3500 \nL 1159 2969 \nQ 1341 3281 1617 3432 \nQ 1894 3584 2278 3584 \nQ 2916 3584 3314 3078 \nQ 3713 2572 3713 1747 \nQ 3713 922 3314 415 \nQ 2916 -91 2278 -91 \nQ 1894 -91 1617 61 \nQ 1341 213 1159 525 \nz\nM 3116 1747 \nQ 3116 2381 2855 2742 \nQ 2594 3103 2138 3103 \nQ 1681 3103 1420 2742 \nQ 1159 2381 1159 1747 \nQ 1159 1113 1420 752 \nQ 1681 391 2138 391 \nQ 2594 391 2855 752 \nQ 3116 1113 3116 1747 \nz\n\" id=\"DejaVuSans-70\" transform=\"scale(0.015625)\"/>\n       </defs>\n       <use xlink:href=\"#DejaVuSans-67\"/>\n       <use x=\"63.476562\" xlink:href=\"#DejaVuSans-72\"/>\n       <use x=\"102.339844\" xlink:href=\"#DejaVuSans-6f\"/>\n       <use x=\"163.521484\" xlink:href=\"#DejaVuSans-75\"/>\n       <use x=\"226.900391\" xlink:href=\"#DejaVuSans-70\"/>\n      </g>\n     </g>\n    </g>\n    <g id=\"xtick_5\">\n     <g id=\"line2d_5\">\n      <g>\n       <use style=\"stroke:#000000;stroke-width:0.8;\" x=\"335.20724\" xlink:href=\"#meeebb7fabe\" y=\"457.198125\"/>\n      </g>\n     </g>\n     <g id=\"text_5\">\n      <!-- report -->\n      <g transform=\"translate(337.966615 494.735625)rotate(-90)scale(0.1 -0.1)\">\n       <use xlink:href=\"#DejaVuSans-72\"/>\n       <use x=\"38.863281\" xlink:href=\"#DejaVuSans-65\"/>\n       <use x=\"100.386719\" xlink:href=\"#DejaVuSans-70\"/>\n       <use x=\"163.863281\" xlink:href=\"#DejaVuSans-6f\"/>\n       <use x=\"225.044922\" xlink:href=\"#DejaVuSans-72\"/>\n       <use x=\"266.158203\" xlink:href=\"#DejaVuSans-74\"/>\n      </g>\n     </g>\n    </g>\n    <g id=\"xtick_6\">\n     <g id=\"line2d_6\">\n      <g>\n       <use style=\"stroke:#000000;stroke-width:0.8;\" x=\"390.047535\" xlink:href=\"#meeebb7fabe\" y=\"457.198125\"/>\n      </g>\n     </g>\n     <g id=\"text_6\">\n      <!-- und -->\n      <g transform=\"translate(392.80691 483.221562)rotate(-90)scale(0.1 -0.1)\">\n       <defs>\n        <path d=\"M 2906 2969 \nL 2906 4863 \nL 3481 4863 \nL 3481 0 \nL 2906 0 \nL 2906 525 \nQ 2725 213 2448 61 \nQ 2172 -91 1784 -91 \nQ 1150 -91 751 415 \nQ 353 922 353 1747 \nQ 353 2572 751 3078 \nQ 1150 3584 1784 3584 \nQ 2172 3584 2448 3432 \nQ 2725 3281 2906 2969 \nz\nM 947 1747 \nQ 947 1113 1208 752 \nQ 1469 391 1925 391 \nQ 2381 391 2643 752 \nQ 2906 1113 2906 1747 \nQ 2906 2381 2643 2742 \nQ 2381 3103 1925 3103 \nQ 1469 3103 1208 2742 \nQ 947 2381 947 1747 \nz\n\" id=\"DejaVuSans-64\" transform=\"scale(0.015625)\"/>\n       </defs>\n       <use xlink:href=\"#DejaVuSans-75\"/>\n       <use x=\"63.378906\" xlink:href=\"#DejaVuSans-6e\"/>\n       <use x=\"126.757812\" xlink:href=\"#DejaVuSans-64\"/>\n      </g>\n     </g>\n    </g>\n    <g id=\"xtick_7\">\n     <g id=\"line2d_7\">\n      <g>\n       <use style=\"stroke:#000000;stroke-width:0.8;\" x=\"444.88783\" xlink:href=\"#meeebb7fabe\" y=\"457.198125\"/>\n      </g>\n     </g>\n     <g id=\"text_7\">\n      <!-- business -->\n      <g transform=\"translate(447.647205 507.780937)rotate(-90)scale(0.1 -0.1)\">\n       <defs>\n        <path d=\"M 3116 1747 \nQ 3116 2381 2855 2742 \nQ 2594 3103 2138 3103 \nQ 1681 3103 1420 2742 \nQ 1159 2381 1159 1747 \nQ 1159 1113 1420 752 \nQ 1681 391 2138 391 \nQ 2594 391 2855 752 \nQ 3116 1113 3116 1747 \nz\nM 1159 2969 \nQ 1341 3281 1617 3432 \nQ 1894 3584 2278 3584 \nQ 2916 3584 3314 3078 \nQ 3713 2572 3713 1747 \nQ 3713 922 3314 415 \nQ 2916 -91 2278 -91 \nQ 1894 -91 1617 61 \nQ 1341 213 1159 525 \nL 1159 0 \nL 581 0 \nL 581 4863 \nL 1159 4863 \nL 1159 2969 \nz\n\" id=\"DejaVuSans-62\" transform=\"scale(0.015625)\"/>\n       </defs>\n       <use xlink:href=\"#DejaVuSans-62\"/>\n       <use x=\"63.476562\" xlink:href=\"#DejaVuSans-75\"/>\n       <use x=\"126.855469\" xlink:href=\"#DejaVuSans-73\"/>\n       <use x=\"178.955078\" xlink:href=\"#DejaVuSans-69\"/>\n       <use x=\"206.738281\" xlink:href=\"#DejaVuSans-6e\"/>\n       <use x=\"270.117188\" xlink:href=\"#DejaVuSans-65\"/>\n       <use x=\"331.640625\" xlink:href=\"#DejaVuSans-73\"/>\n       <use x=\"383.740234\" xlink:href=\"#DejaVuSans-73\"/>\n      </g>\n     </g>\n    </g>\n    <g id=\"xtick_8\">\n     <g id=\"line2d_8\">\n      <g>\n       <use style=\"stroke:#000000;stroke-width:0.8;\" x=\"499.728125\" xlink:href=\"#meeebb7fabe\" y=\"457.198125\"/>\n      </g>\n     </g>\n     <g id=\"text_8\">\n      <!-- financial -->\n      <g transform=\"translate(502.4875 506.4825)rotate(-90)scale(0.1 -0.1)\">\n       <defs>\n        <path d=\"M 3122 3366 \nL 3122 2828 \nQ 2878 2963 2633 3030 \nQ 2388 3097 2138 3097 \nQ 1578 3097 1268 2742 \nQ 959 2388 959 1747 \nQ 959 1106 1268 751 \nQ 1578 397 2138 397 \nQ 2388 397 2633 464 \nQ 2878 531 3122 666 \nL 3122 134 \nQ 2881 22 2623 -34 \nQ 2366 -91 2075 -91 \nQ 1284 -91 818 406 \nQ 353 903 353 1747 \nQ 353 2603 823 3093 \nQ 1294 3584 2113 3584 \nQ 2378 3584 2631 3529 \nQ 2884 3475 3122 3366 \nz\n\" id=\"DejaVuSans-63\" transform=\"scale(0.015625)\"/>\n        <path d=\"M 603 4863 \nL 1178 4863 \nL 1178 0 \nL 603 0 \nL 603 4863 \nz\n\" id=\"DejaVuSans-6c\" transform=\"scale(0.015625)\"/>\n       </defs>\n       <use xlink:href=\"#DejaVuSans-66\"/>\n       <use x=\"35.205078\" xlink:href=\"#DejaVuSans-69\"/>\n       <use x=\"62.988281\" xlink:href=\"#DejaVuSans-6e\"/>\n       <use x=\"126.367188\" xlink:href=\"#DejaVuSans-61\"/>\n       <use x=\"187.646484\" xlink:href=\"#DejaVuSans-6e\"/>\n       <use x=\"251.025391\" xlink:href=\"#DejaVuSans-63\"/>\n       <use x=\"306.005859\" xlink:href=\"#DejaVuSans-69\"/>\n       <use x=\"333.789062\" xlink:href=\"#DejaVuSans-61\"/>\n       <use x=\"395.068359\" xlink:href=\"#DejaVuSans-6c\"/>\n      </g>\n     </g>\n    </g>\n    <g id=\"xtick_9\">\n     <g id=\"line2d_9\">\n      <g>\n       <use style=\"stroke:#000000;stroke-width:0.8;\" x=\"554.56842\" xlink:href=\"#meeebb7fabe\" y=\"457.198125\"/>\n      </g>\n     </g>\n     <g id=\"text_9\">\n      <!-- der -->\n      <g transform=\"translate(557.327795 480.810625)rotate(-90)scale(0.1 -0.1)\">\n       <use xlink:href=\"#DejaVuSans-64\"/>\n       <use x=\"63.476562\" xlink:href=\"#DejaVuSans-65\"/>\n       <use x=\"125\" xlink:href=\"#DejaVuSans-72\"/>\n      </g>\n     </g>\n    </g>\n    <g id=\"xtick_10\">\n     <g id=\"line2d_10\">\n      <g>\n       <use style=\"stroke:#000000;stroke-width:0.8;\" x=\"609.408715\" xlink:href=\"#meeebb7fabe\" y=\"457.198125\"/>\n      </g>\n     </g>\n     <g id=\"text_10\">\n      <!-- employees -->\n      <g transform=\"translate(612.16809 518.771562)rotate(-90)scale(0.1 -0.1)\">\n       <defs>\n        <path d=\"M 2059 -325 \nQ 1816 -950 1584 -1140 \nQ 1353 -1331 966 -1331 \nL 506 -1331 \nL 506 -850 \nL 844 -850 \nQ 1081 -850 1212 -737 \nQ 1344 -625 1503 -206 \nL 1606 56 \nL 191 3500 \nL 800 3500 \nL 1894 763 \nL 2988 3500 \nL 3597 3500 \nL 2059 -325 \nz\n\" id=\"DejaVuSans-79\" transform=\"scale(0.015625)\"/>\n       </defs>\n       <use xlink:href=\"#DejaVuSans-65\"/>\n       <use x=\"61.523438\" xlink:href=\"#DejaVuSans-6d\"/>\n       <use x=\"158.935547\" xlink:href=\"#DejaVuSans-70\"/>\n       <use x=\"222.412109\" xlink:href=\"#DejaVuSans-6c\"/>\n       <use x=\"250.195312\" xlink:href=\"#DejaVuSans-6f\"/>\n       <use x=\"311.376953\" xlink:href=\"#DejaVuSans-79\"/>\n       <use x=\"370.556641\" xlink:href=\"#DejaVuSans-65\"/>\n       <use x=\"432.080078\" xlink:href=\"#DejaVuSans-65\"/>\n       <use x=\"493.603516\" xlink:href=\"#DejaVuSans-73\"/>\n      </g>\n     </g>\n    </g>\n    <g id=\"xtick_11\">\n     <g id=\"line2d_11\">\n      <g>\n       <use style=\"stroke:#000000;stroke-width:0.8;\" x=\"664.24901\" xlink:href=\"#meeebb7fabe\" y=\"457.198125\"/>\n      </g>\n     </g>\n     <g id=\"text_11\">\n      <!-- energy -->\n      <g transform=\"translate(667.008385 499.045)rotate(-90)scale(0.1 -0.1)\">\n       <use xlink:href=\"#DejaVuSans-65\"/>\n       <use x=\"61.523438\" xlink:href=\"#DejaVuSans-6e\"/>\n       <use x=\"124.902344\" xlink:href=\"#DejaVuSans-65\"/>\n       <use x=\"186.425781\" xlink:href=\"#DejaVuSans-72\"/>\n       <use x=\"225.789062\" xlink:href=\"#DejaVuSans-67\"/>\n       <use x=\"289.265625\" xlink:href=\"#DejaVuSans-79\"/>\n      </g>\n     </g>\n    </g>\n    <g id=\"xtick_12\">\n     <g id=\"line2d_12\">\n      <g>\n       <use style=\"stroke:#000000;stroke-width:0.8;\" x=\"719.089304\" xlink:href=\"#meeebb7fabe\" y=\"457.198125\"/>\n      </g>\n     </g>\n     <g id=\"text_12\">\n      <!-- die -->\n      <g transform=\"translate(721.848679 479.477812)rotate(-90)scale(0.1 -0.1)\">\n       <use xlink:href=\"#DejaVuSans-64\"/>\n       <use x=\"63.476562\" xlink:href=\"#DejaVuSans-69\"/>\n       <use x=\"91.259766\" xlink:href=\"#DejaVuSans-65\"/>\n      </g>\n     </g>\n    </g>\n    <g id=\"xtick_13\">\n     <g id=\"line2d_13\">\n      <g>\n       <use style=\"stroke:#000000;stroke-width:0.8;\" x=\"773.929599\" xlink:href=\"#meeebb7fabe\" y=\"457.198125\"/>\n      </g>\n     </g>\n     <g id=\"text_13\">\n      <!-- siemens -->\n      <g transform=\"translate(776.688974 505.779375)rotate(-90)scale(0.1 -0.1)\">\n       <use xlink:href=\"#DejaVuSans-73\"/>\n       <use x=\"52.099609\" xlink:href=\"#DejaVuSans-69\"/>\n       <use x=\"79.882812\" xlink:href=\"#DejaVuSans-65\"/>\n       <use x=\"141.40625\" xlink:href=\"#DejaVuSans-6d\"/>\n       <use x=\"238.818359\" xlink:href=\"#DejaVuSans-65\"/>\n       <use x=\"300.341797\" xlink:href=\"#DejaVuSans-6e\"/>\n       <use x=\"363.720703\" xlink:href=\"#DejaVuSans-73\"/>\n      </g>\n     </g>\n    </g>\n    <g id=\"xtick_14\">\n     <g id=\"line2d_14\">\n      <g>\n       <use style=\"stroke:#000000;stroke-width:0.8;\" x=\"828.769894\" xlink:href=\"#meeebb7fabe\" y=\"457.198125\"/>\n      </g>\n     </g>\n     <g id=\"text_14\">\n      <!-- care -->\n      <g transform=\"translate(831.529269 485.86375)rotate(-90)scale(0.1 -0.1)\">\n       <use xlink:href=\"#DejaVuSans-63\"/>\n       <use x=\"54.980469\" xlink:href=\"#DejaVuSans-61\"/>\n       <use x=\"116.259766\" xlink:href=\"#DejaVuSans-72\"/>\n       <use x=\"155.123047\" xlink:href=\"#DejaVuSans-65\"/>\n      </g>\n     </g>\n    </g>\n    <g id=\"xtick_15\">\n     <g id=\"line2d_15\">\n      <g>\n       <use style=\"stroke:#000000;stroke-width:0.8;\" x=\"883.610189\" xlink:href=\"#meeebb7fabe\" y=\"457.198125\"/>\n      </g>\n     </g>\n     <g id=\"text_15\">\n      <!-- consolidated -->\n      <g transform=\"translate(886.369564 527.935625)rotate(-90)scale(0.1 -0.1)\">\n       <use xlink:href=\"#DejaVuSans-63\"/>\n       <use x=\"54.980469\" xlink:href=\"#DejaVuSans-6f\"/>\n       <use x=\"116.162109\" xlink:href=\"#DejaVuSans-6e\"/>\n       <use x=\"179.541016\" xlink:href=\"#DejaVuSans-73\"/>\n       <use x=\"231.640625\" xlink:href=\"#DejaVuSans-6f\"/>\n       <use x=\"292.822266\" xlink:href=\"#DejaVuSans-6c\"/>\n       <use x=\"320.605469\" xlink:href=\"#DejaVuSans-69\"/>\n       <use x=\"348.388672\" xlink:href=\"#DejaVuSans-64\"/>\n       <use x=\"411.865234\" xlink:href=\"#DejaVuSans-61\"/>\n       <use x=\"473.144531\" xlink:href=\"#DejaVuSans-74\"/>\n       <use x=\"512.353516\" xlink:href=\"#DejaVuSans-65\"/>\n       <use x=\"573.876953\" xlink:href=\"#DejaVuSans-64\"/>\n      </g>\n     </g>\n    </g>\n    <g id=\"text_16\">\n     <!-- Word -->\n     <g transform=\"translate(486.876562 542.784062)scale(0.1 -0.1)\">\n      <defs>\n       <path d=\"M 213 4666 \nL 850 4666 \nL 1831 722 \nL 2809 4666 \nL 3519 4666 \nL 4500 722 \nL 5478 4666 \nL 6119 4666 \nL 4947 0 \nL 4153 0 \nL 3169 4050 \nL 2175 0 \nL 1381 0 \nL 213 4666 \nz\n\" id=\"DejaVuSans-57\" transform=\"scale(0.015625)\"/>\n      </defs>\n      <use xlink:href=\"#DejaVuSans-57\"/>\n      <use x=\"93.001953\" xlink:href=\"#DejaVuSans-6f\"/>\n      <use x=\"154.183594\" xlink:href=\"#DejaVuSans-72\"/>\n      <use x=\"193.546875\" xlink:href=\"#DejaVuSans-64\"/>\n     </g>\n    </g>\n   </g>\n   <g id=\"matplotlib.axis_2\">\n    <g id=\"ytick_1\">\n     <g id=\"line2d_16\">\n      <defs>\n       <path d=\"M 0 0 \nL -3.5 0 \n\" id=\"m1695a068e4\" style=\"stroke:#000000;stroke-width:0.8;\"/>\n      </defs>\n      <g>\n       <use style=\"stroke:#000000;stroke-width:0.8;\" x=\"53.328125\" xlink:href=\"#m1695a068e4\" y=\"457.198125\"/>\n      </g>\n     </g>\n     <g id=\"text_17\">\n      <!-- 0 -->\n      <g transform=\"translate(39.965625 460.997344)scale(0.1 -0.1)\">\n       <use xlink:href=\"#DejaVuSans-30\"/>\n      </g>\n     </g>\n    </g>\n    <g id=\"ytick_2\">\n     <g id=\"line2d_17\">\n      <g>\n       <use style=\"stroke:#000000;stroke-width:0.8;\" x=\"53.328125\" xlink:href=\"#m1695a068e4\" y=\"396.290562\"/>\n      </g>\n     </g>\n     <g id=\"text_18\">\n      <!-- 500 -->\n      <g transform=\"translate(27.240625 400.089781)scale(0.1 -0.1)\">\n       <defs>\n        <path d=\"M 691 4666 \nL 3169 4666 \nL 3169 4134 \nL 1269 4134 \nL 1269 2991 \nQ 1406 3038 1543 3061 \nQ 1681 3084 1819 3084 \nQ 2600 3084 3056 2656 \nQ 3513 2228 3513 1497 \nQ 3513 744 3044 326 \nQ 2575 -91 1722 -91 \nQ 1428 -91 1123 -41 \nQ 819 9 494 109 \nL 494 744 \nQ 775 591 1075 516 \nQ 1375 441 1709 441 \nQ 2250 441 2565 725 \nQ 2881 1009 2881 1497 \nQ 2881 1984 2565 2268 \nQ 2250 2553 1709 2553 \nQ 1456 2553 1204 2497 \nQ 953 2441 691 2322 \nL 691 4666 \nz\n\" id=\"DejaVuSans-35\" transform=\"scale(0.015625)\"/>\n       </defs>\n       <use xlink:href=\"#DejaVuSans-35\"/>\n       <use x=\"63.623047\" xlink:href=\"#DejaVuSans-30\"/>\n       <use x=\"127.246094\" xlink:href=\"#DejaVuSans-30\"/>\n      </g>\n     </g>\n    </g>\n    <g id=\"ytick_3\">\n     <g id=\"line2d_18\">\n      <g>\n       <use style=\"stroke:#000000;stroke-width:0.8;\" x=\"53.328125\" xlink:href=\"#m1695a068e4\" y=\"335.382999\"/>\n      </g>\n     </g>\n     <g id=\"text_19\">\n      <!-- 1000 -->\n      <g transform=\"translate(20.878125 339.182218)scale(0.1 -0.1)\">\n       <defs>\n        <path d=\"M 794 531 \nL 1825 531 \nL 1825 4091 \nL 703 3866 \nL 703 4441 \nL 1819 4666 \nL 2450 4666 \nL 2450 531 \nL 3481 531 \nL 3481 0 \nL 794 0 \nL 794 531 \nz\n\" id=\"DejaVuSans-31\" transform=\"scale(0.015625)\"/>\n       </defs>\n       <use xlink:href=\"#DejaVuSans-31\"/>\n       <use x=\"63.623047\" xlink:href=\"#DejaVuSans-30\"/>\n       <use x=\"127.246094\" xlink:href=\"#DejaVuSans-30\"/>\n       <use x=\"190.869141\" xlink:href=\"#DejaVuSans-30\"/>\n      </g>\n     </g>\n    </g>\n    <g id=\"ytick_4\">\n     <g id=\"line2d_19\">\n      <g>\n       <use style=\"stroke:#000000;stroke-width:0.8;\" x=\"53.328125\" xlink:href=\"#m1695a068e4\" y=\"274.475436\"/>\n      </g>\n     </g>\n     <g id=\"text_20\">\n      <!-- 1500 -->\n      <g transform=\"translate(20.878125 278.274655)scale(0.1 -0.1)\">\n       <use xlink:href=\"#DejaVuSans-31\"/>\n       <use x=\"63.623047\" xlink:href=\"#DejaVuSans-35\"/>\n       <use x=\"127.246094\" xlink:href=\"#DejaVuSans-30\"/>\n       <use x=\"190.869141\" xlink:href=\"#DejaVuSans-30\"/>\n      </g>\n     </g>\n    </g>\n    <g id=\"ytick_5\">\n     <g id=\"line2d_20\">\n      <g>\n       <use style=\"stroke:#000000;stroke-width:0.8;\" x=\"53.328125\" xlink:href=\"#m1695a068e4\" y=\"213.567873\"/>\n      </g>\n     </g>\n     <g id=\"text_21\">\n      <!-- 2000 -->\n      <g transform=\"translate(20.878125 217.367092)scale(0.1 -0.1)\">\n       <use xlink:href=\"#DejaVuSans-32\"/>\n       <use x=\"63.623047\" xlink:href=\"#DejaVuSans-30\"/>\n       <use x=\"127.246094\" xlink:href=\"#DejaVuSans-30\"/>\n       <use x=\"190.869141\" xlink:href=\"#DejaVuSans-30\"/>\n      </g>\n     </g>\n    </g>\n    <g id=\"ytick_6\">\n     <g id=\"line2d_21\">\n      <g>\n       <use style=\"stroke:#000000;stroke-width:0.8;\" x=\"53.328125\" xlink:href=\"#m1695a068e4\" y=\"152.66031\"/>\n      </g>\n     </g>\n     <g id=\"text_22\">\n      <!-- 2500 -->\n      <g transform=\"translate(20.878125 156.459529)scale(0.1 -0.1)\">\n       <use xlink:href=\"#DejaVuSans-32\"/>\n       <use x=\"63.623047\" xlink:href=\"#DejaVuSans-35\"/>\n       <use x=\"127.246094\" xlink:href=\"#DejaVuSans-30\"/>\n       <use x=\"190.869141\" xlink:href=\"#DejaVuSans-30\"/>\n      </g>\n     </g>\n    </g>\n    <g id=\"ytick_7\">\n     <g id=\"line2d_22\">\n      <g>\n       <use style=\"stroke:#000000;stroke-width:0.8;\" x=\"53.328125\" xlink:href=\"#m1695a068e4\" y=\"91.752747\"/>\n      </g>\n     </g>\n     <g id=\"text_23\">\n      <!-- 3000 -->\n      <g transform=\"translate(20.878125 95.551966)scale(0.1 -0.1)\">\n       <defs>\n        <path d=\"M 2597 2516 \nQ 3050 2419 3304 2112 \nQ 3559 1806 3559 1356 \nQ 3559 666 3084 287 \nQ 2609 -91 1734 -91 \nQ 1441 -91 1130 -33 \nQ 819 25 488 141 \nL 488 750 \nQ 750 597 1062 519 \nQ 1375 441 1716 441 \nQ 2309 441 2620 675 \nQ 2931 909 2931 1356 \nQ 2931 1769 2642 2001 \nQ 2353 2234 1838 2234 \nL 1294 2234 \nL 1294 2753 \nL 1863 2753 \nQ 2328 2753 2575 2939 \nQ 2822 3125 2822 3475 \nQ 2822 3834 2567 4026 \nQ 2313 4219 1838 4219 \nQ 1578 4219 1281 4162 \nQ 984 4106 628 3988 \nL 628 4550 \nQ 988 4650 1302 4700 \nQ 1616 4750 1894 4750 \nQ 2613 4750 3031 4423 \nQ 3450 4097 3450 3541 \nQ 3450 3153 3228 2886 \nQ 3006 2619 2597 2516 \nz\n\" id=\"DejaVuSans-33\" transform=\"scale(0.015625)\"/>\n       </defs>\n       <use xlink:href=\"#DejaVuSans-33\"/>\n       <use x=\"63.623047\" xlink:href=\"#DejaVuSans-30\"/>\n       <use x=\"127.246094\" xlink:href=\"#DejaVuSans-30\"/>\n       <use x=\"190.869141\" xlink:href=\"#DejaVuSans-30\"/>\n      </g>\n     </g>\n    </g>\n    <g id=\"ytick_8\">\n     <g id=\"line2d_23\">\n      <g>\n       <use style=\"stroke:#000000;stroke-width:0.8;\" x=\"53.328125\" xlink:href=\"#m1695a068e4\" y=\"30.845184\"/>\n      </g>\n     </g>\n     <g id=\"text_24\">\n      <!-- 3500 -->\n      <g transform=\"translate(20.878125 34.644403)scale(0.1 -0.1)\">\n       <use xlink:href=\"#DejaVuSans-33\"/>\n       <use x=\"63.623047\" xlink:href=\"#DejaVuSans-35\"/>\n       <use x=\"127.246094\" xlink:href=\"#DejaVuSans-30\"/>\n       <use x=\"190.869141\" xlink:href=\"#DejaVuSans-30\"/>\n      </g>\n     </g>\n    </g>\n    <g id=\"text_25\">\n     <!-- Number of occurences -->\n     <g transform=\"translate(14.798438 296.187031)rotate(-90)scale(0.1 -0.1)\">\n      <defs>\n       <path d=\"M 628 4666 \nL 1478 4666 \nL 3547 763 \nL 3547 4666 \nL 4159 4666 \nL 4159 0 \nL 3309 0 \nL 1241 3903 \nL 1241 0 \nL 628 0 \nL 628 4666 \nz\n\" id=\"DejaVuSans-4e\" transform=\"scale(0.015625)\"/>\n       <path id=\"DejaVuSans-20\" transform=\"scale(0.015625)\"/>\n      </defs>\n      <use xlink:href=\"#DejaVuSans-4e\"/>\n      <use x=\"74.804688\" xlink:href=\"#DejaVuSans-75\"/>\n      <use x=\"138.183594\" xlink:href=\"#DejaVuSans-6d\"/>\n      <use x=\"235.595703\" xlink:href=\"#DejaVuSans-62\"/>\n      <use x=\"299.072266\" xlink:href=\"#DejaVuSans-65\"/>\n      <use x=\"360.595703\" xlink:href=\"#DejaVuSans-72\"/>\n      <use x=\"401.708984\" xlink:href=\"#DejaVuSans-20\"/>\n      <use x=\"433.496094\" xlink:href=\"#DejaVuSans-6f\"/>\n      <use x=\"494.677734\" xlink:href=\"#DejaVuSans-66\"/>\n      <use x=\"529.882812\" xlink:href=\"#DejaVuSans-20\"/>\n      <use x=\"561.669922\" xlink:href=\"#DejaVuSans-6f\"/>\n      <use x=\"622.851562\" xlink:href=\"#DejaVuSans-63\"/>\n      <use x=\"677.832031\" xlink:href=\"#DejaVuSans-63\"/>\n      <use x=\"732.8125\" xlink:href=\"#DejaVuSans-75\"/>\n      <use x=\"796.191406\" xlink:href=\"#DejaVuSans-72\"/>\n      <use x=\"835.054688\" xlink:href=\"#DejaVuSans-65\"/>\n      <use x=\"896.578125\" xlink:href=\"#DejaVuSans-6e\"/>\n      <use x=\"959.957031\" xlink:href=\"#DejaVuSans-63\"/>\n      <use x=\"1014.9375\" xlink:href=\"#DejaVuSans-65\"/>\n      <use x=\"1076.460938\" xlink:href=\"#DejaVuSans-73\"/>\n     </g>\n    </g>\n   </g>\n   <g id=\"patch_18\">\n    <path d=\"M 53.328125 457.198125 \nL 53.328125 22.318125 \n\" style=\"fill:none;stroke:#000000;stroke-linecap:square;stroke-linejoin:miter;stroke-width:0.8;\"/>\n   </g>\n   <g id=\"patch_19\">\n    <path d=\"M 946.128125 457.198125 \nL 946.128125 22.318125 \n\" style=\"fill:none;stroke:#000000;stroke-linecap:square;stroke-linejoin:miter;stroke-width:0.8;\"/>\n   </g>\n   <g id=\"patch_20\">\n    <path d=\"M 53.328125 457.198125 \nL 946.128125 457.198125 \n\" style=\"fill:none;stroke:#000000;stroke-linecap:square;stroke-linejoin:miter;stroke-width:0.8;\"/>\n   </g>\n   <g id=\"patch_21\">\n    <path d=\"M 53.328125 22.318125 \nL 946.128125 22.318125 \n\" style=\"fill:none;stroke:#000000;stroke-linecap:square;stroke-linejoin:miter;stroke-width:0.8;\"/>\n   </g>\n   <g id=\"text_26\">\n    <!-- Top words in headlines dataset (excluding stop words) -->\n    <g transform=\"translate(336.889063 16.318125)scale(0.12 -0.12)\">\n     <defs>\n      <path d=\"M -19 4666 \nL 3928 4666 \nL 3928 4134 \nL 2272 4134 \nL 2272 0 \nL 1638 0 \nL 1638 4134 \nL -19 4134 \nL -19 4666 \nz\n\" id=\"DejaVuSans-54\" transform=\"scale(0.015625)\"/>\n      <path d=\"M 269 3500 \nL 844 3500 \nL 1563 769 \nL 2278 3500 \nL 2956 3500 \nL 3675 769 \nL 4391 3500 \nL 4966 3500 \nL 4050 0 \nL 3372 0 \nL 2619 2869 \nL 1863 0 \nL 1184 0 \nL 269 3500 \nz\n\" id=\"DejaVuSans-77\" transform=\"scale(0.015625)\"/>\n      <path d=\"M 3513 2113 \nL 3513 0 \nL 2938 0 \nL 2938 2094 \nQ 2938 2591 2744 2837 \nQ 2550 3084 2163 3084 \nQ 1697 3084 1428 2787 \nQ 1159 2491 1159 1978 \nL 1159 0 \nL 581 0 \nL 581 4863 \nL 1159 4863 \nL 1159 2956 \nQ 1366 3272 1645 3428 \nQ 1925 3584 2291 3584 \nQ 2894 3584 3203 3211 \nQ 3513 2838 3513 2113 \nz\n\" id=\"DejaVuSans-68\" transform=\"scale(0.015625)\"/>\n      <path d=\"M 1984 4856 \nQ 1566 4138 1362 3434 \nQ 1159 2731 1159 2009 \nQ 1159 1288 1364 580 \nQ 1569 -128 1984 -844 \nL 1484 -844 \nQ 1016 -109 783 600 \nQ 550 1309 550 2009 \nQ 550 2706 781 3412 \nQ 1013 4119 1484 4856 \nL 1984 4856 \nz\n\" id=\"DejaVuSans-28\" transform=\"scale(0.015625)\"/>\n      <path d=\"M 3513 3500 \nL 2247 1797 \nL 3578 0 \nL 2900 0 \nL 1881 1375 \nL 863 0 \nL 184 0 \nL 1544 1831 \nL 300 3500 \nL 978 3500 \nL 1906 2253 \nL 2834 3500 \nL 3513 3500 \nz\n\" id=\"DejaVuSans-78\" transform=\"scale(0.015625)\"/>\n      <path d=\"M 513 4856 \nL 1013 4856 \nQ 1481 4119 1714 3412 \nQ 1947 2706 1947 2009 \nQ 1947 1309 1714 600 \nQ 1481 -109 1013 -844 \nL 513 -844 \nQ 928 -128 1133 580 \nQ 1338 1288 1338 2009 \nQ 1338 2731 1133 3434 \nQ 928 4138 513 4856 \nz\n\" id=\"DejaVuSans-29\" transform=\"scale(0.015625)\"/>\n     </defs>\n     <use xlink:href=\"#DejaVuSans-54\"/>\n     <use x=\"44.083984\" xlink:href=\"#DejaVuSans-6f\"/>\n     <use x=\"105.265625\" xlink:href=\"#DejaVuSans-70\"/>\n     <use x=\"168.742188\" xlink:href=\"#DejaVuSans-20\"/>\n     <use x=\"200.529297\" xlink:href=\"#DejaVuSans-77\"/>\n     <use x=\"282.316406\" xlink:href=\"#DejaVuSans-6f\"/>\n     <use x=\"343.498047\" xlink:href=\"#DejaVuSans-72\"/>\n     <use x=\"382.861328\" xlink:href=\"#DejaVuSans-64\"/>\n     <use x=\"446.337891\" xlink:href=\"#DejaVuSans-73\"/>\n     <use x=\"498.4375\" xlink:href=\"#DejaVuSans-20\"/>\n     <use x=\"530.224609\" xlink:href=\"#DejaVuSans-69\"/>\n     <use x=\"558.007812\" xlink:href=\"#DejaVuSans-6e\"/>\n     <use x=\"621.386719\" xlink:href=\"#DejaVuSans-20\"/>\n     <use x=\"653.173828\" xlink:href=\"#DejaVuSans-68\"/>\n     <use x=\"716.552734\" xlink:href=\"#DejaVuSans-65\"/>\n     <use x=\"778.076172\" xlink:href=\"#DejaVuSans-61\"/>\n     <use x=\"839.355469\" xlink:href=\"#DejaVuSans-64\"/>\n     <use x=\"902.832031\" xlink:href=\"#DejaVuSans-6c\"/>\n     <use x=\"930.615234\" xlink:href=\"#DejaVuSans-69\"/>\n     <use x=\"958.398438\" xlink:href=\"#DejaVuSans-6e\"/>\n     <use x=\"1021.777344\" xlink:href=\"#DejaVuSans-65\"/>\n     <use x=\"1083.300781\" xlink:href=\"#DejaVuSans-73\"/>\n     <use x=\"1135.400391\" xlink:href=\"#DejaVuSans-20\"/>\n     <use x=\"1167.1875\" xlink:href=\"#DejaVuSans-64\"/>\n     <use x=\"1230.664062\" xlink:href=\"#DejaVuSans-61\"/>\n     <use x=\"1291.943359\" xlink:href=\"#DejaVuSans-74\"/>\n     <use x=\"1331.152344\" xlink:href=\"#DejaVuSans-61\"/>\n     <use x=\"1392.431641\" xlink:href=\"#DejaVuSans-73\"/>\n     <use x=\"1444.53125\" xlink:href=\"#DejaVuSans-65\"/>\n     <use x=\"1506.054688\" xlink:href=\"#DejaVuSans-74\"/>\n     <use x=\"1545.263672\" xlink:href=\"#DejaVuSans-20\"/>\n     <use x=\"1577.050781\" xlink:href=\"#DejaVuSans-28\"/>\n     <use x=\"1616.064453\" xlink:href=\"#DejaVuSans-65\"/>\n     <use x=\"1675.837891\" xlink:href=\"#DejaVuSans-78\"/>\n     <use x=\"1733.267578\" xlink:href=\"#DejaVuSans-63\"/>\n     <use x=\"1788.248047\" xlink:href=\"#DejaVuSans-6c\"/>\n     <use x=\"1816.03125\" xlink:href=\"#DejaVuSans-75\"/>\n     <use x=\"1879.410156\" xlink:href=\"#DejaVuSans-64\"/>\n     <use x=\"1942.886719\" xlink:href=\"#DejaVuSans-69\"/>\n     <use x=\"1970.669922\" xlink:href=\"#DejaVuSans-6e\"/>\n     <use x=\"2034.048828\" xlink:href=\"#DejaVuSans-67\"/>\n     <use x=\"2097.525391\" xlink:href=\"#DejaVuSans-20\"/>\n     <use x=\"2129.3125\" xlink:href=\"#DejaVuSans-73\"/>\n     <use x=\"2181.412109\" xlink:href=\"#DejaVuSans-74\"/>\n     <use x=\"2220.621094\" xlink:href=\"#DejaVuSans-6f\"/>\n     <use x=\"2281.802734\" xlink:href=\"#DejaVuSans-70\"/>\n     <use x=\"2345.279297\" xlink:href=\"#DejaVuSans-20\"/>\n     <use x=\"2377.066406\" xlink:href=\"#DejaVuSans-77\"/>\n     <use x=\"2458.853516\" xlink:href=\"#DejaVuSans-6f\"/>\n     <use x=\"2520.035156\" xlink:href=\"#DejaVuSans-72\"/>\n     <use x=\"2559.398438\" xlink:href=\"#DejaVuSans-64\"/>\n     <use x=\"2622.875\" xlink:href=\"#DejaVuSans-73\"/>\n     <use x=\"2674.974609\" xlink:href=\"#DejaVuSans-29\"/>\n    </g>\n   </g>\n  </g>\n </g>\n <defs>\n  <clipPath id=\"p510b08b5cd\">\n   <rect height=\"434.88\" width=\"892.8\" x=\"53.328125\" y=\"22.318125\"/>\n  </clipPath>\n </defs>\n</svg>\n",
      "image/png": "[encoded data removed]"
     },
     "metadata": {
      "needs_background": "light"
     }
    }
   ],
   "source": [
    "count_vectorizer = CountVectorizer(stop_words='english')\n",
    "words, word_values = get_top_n_words_for_fig(n_top_words=15,\n",
    "                                     count_vectorizer=count_vectorizer, \n",
    "                                     text_data=reports[reports['lang'] == 'eng']['text'])\n",
    "\n",
    "fig, ax = plt.subplots(figsize=(16,8))\n",
    "ax.bar(range(len(words)), word_values);\n",
    "ax.set_xticks(range(len(words)));\n",
    "ax.set_xticklabels(words, rotation='vertical');\n",
    "ax.set_title('Top words in headlines dataset (excluding stop words)');\n",
    "ax.set_xlabel('Word');\n",
    "ax.set_ylabel('Number of occurences');\n",
    "plt.show()\n"
   ]
  },
  {
   "source": [
    "## Topic Modelling"
   ],
   "cell_type": "markdown",
   "metadata": {}
  },
  {
   "cell_type": "code",
   "execution_count": 8,
   "metadata": {},
   "outputs": [
    {
     "output_type": "stream",
     "name": "stdout",
     "text": [
      "Report before vectorization: volkswagen aktiengesellschaft sustainability report 2020 “the coronavirus pandemic hit the volkswagen group at the start of 2020, in the middle of one of the largest transformation processes in the history of our group. from the start, our focus has been on protecting our employees and our business against the threat of covid-19. despite this massive challenge, at the same time we further advanced the group’s restructuring toward decarbonization and mobility for future generations. my express th\n",
      "Headline after vectorization: \n",
      "  (0, 24669)\t543\n",
      "  (0, 2197)\t1\n",
      "  (0, 22065)\t220\n",
      "  (0, 19404)\t167\n",
      "  (0, 429)\t177\n",
      "  (0, 6092)\t19\n",
      "  (0, 17170)\t25\n",
      "  (0, 11835)\t2\n",
      "  (0, 11295)\t742\n",
      "  (0, 21522)\t20\n",
      "  (0, 15311)\t1\n",
      "  (0, 14000)\t7\n",
      "  (0, 22987)\t64\n",
      "  (0, 18208)\t90\n",
      "  (0, 11834)\t4\n",
      "  (0, 9899)\t71\n",
      "  (0, 18415)\t10\n",
      "  (0, 8242)\t152\n",
      "  (0, 4691)\t182\n",
      "  (0, 22627)\t2\n",
      "  (0, 6182)\t17\n",
      "  (0, 317)\t25\n",
      "  (0, 6915)\t4\n",
      "  (0, 14917)\t2\n",
      "  (0, 5089)\t9\n",
      "  :\t:\n",
      "  (0, 23860)\t2\n",
      "  (0, 22019)\t1\n",
      "  (0, 21135)\t1\n",
      "  (0, 19527)\t1\n",
      "  (0, 11510)\t1\n",
      "  (0, 10692)\t1\n",
      "  (0, 25098)\t1\n",
      "  (0, 14264)\t1\n",
      "  (0, 25)\t1\n",
      "  (0, 194)\t1\n",
      "  (0, 757)\t1\n",
      "  (0, 15859)\t1\n",
      "  (0, 7791)\t3\n",
      "  (0, 20310)\t2\n",
      "  (0, 16180)\t1\n",
      "  (0, 14174)\t1\n",
      "  (0, 16728)\t1\n",
      "  (0, 9123)\t1\n",
      "  (0, 7217)\t1\n",
      "  (0, 23248)\t1\n",
      "  (0, 6893)\t1\n",
      "  (0, 5315)\t1\n",
      "  (0, 11086)\t1\n",
      "  (0, 6731)\t1\n",
      "  (0, 14730)\t1\n"
     ]
    }
   ],
   "source": [
    "\n",
    "count_vectorizer = CountVectorizer(stop_words='english') # , max_features=40000\n",
    "#small_text_sample = reindexed_data.sample(n=10000, random_state=0).values\n",
    "\n",
    "print('Report before vectorization: {}'.format(reports['text'][0][:500]))\n",
    "\n",
    "document_term_matrix = count_vectorizer.fit_transform(reports['text'])\n",
    "\n",
    "print('Headline after vectorization: \\n{}'.format(document_term_matrix[0][:500]))"
   ]
  },
  {
   "source": [
    "## Latent Semantic Analysis (LSA)"
   ],
   "cell_type": "markdown",
   "metadata": {}
  },
  {
   "cell_type": "code",
   "execution_count": 9,
   "metadata": {},
   "outputs": [],
   "source": [
    "n_topics = 8\n",
    "n_topics = 17\n",
    "lsa_model = TruncatedSVD(n_components=n_topics)\n",
    "lsa_topic_matrix = lsa_model.fit_transform(document_term_matrix)"
   ]
  },
  {
   "cell_type": "code",
   "execution_count": 10,
   "metadata": {},
   "outputs": [],
   "source": [
    "# Define helper functions\n",
    "def get_keys(topic_matrix):\n",
    "    '''\n",
    "    returns an integer list of predicted topic \n",
    "    categories for a given topic matrix\n",
    "    '''\n",
    "    keys = topic_matrix.argmax(axis=1).tolist()\n",
    "    return keys\n",
    "\n",
    "def keys_to_counts(keys):\n",
    "    '''\n",
    "    returns a tuple of topic categories and their \n",
    "    accompanying magnitudes for a given list of keys\n",
    "    '''\n",
    "    count_pairs = Counter(keys).items()\n",
    "    categories = [pair[0] for pair in count_pairs]\n",
    "    counts = [pair[1] for pair in count_pairs]\n",
    "    return (categories, counts)"
   ]
  },
  {
   "cell_type": "code",
   "execution_count": 11,
   "metadata": {},
   "outputs": [],
   "source": [
    "lsa_keys = get_keys(lsa_topic_matrix)\n",
    "lsa_categories, lsa_counts = keys_to_counts(lsa_keys)"
   ]
  },
  {
   "cell_type": "code",
   "execution_count": 12,
   "metadata": {},
   "outputs": [],
   "source": [
    "from scipy.sparse import csr_matrix\n",
    "\n",
    "# Define helper functions\n",
    "def get_top_n_words(n, keys, document_term_matrix, count_vectorizer):\n",
    "    '''\n",
    "    returns a list of n_topic strings, where each string contains the n most common \n",
    "    words in a predicted category, in order\n",
    "    '''\n",
    "    top_word_indices = []\n",
    "    for topic in range(n_topics):\n",
    "        temp_vector_sum = 0\n",
    "        for i in range(len(keys)):\n",
    "            if keys[i] == topic:\n",
    "                temp_vector_sum += document_term_matrix[i]\n",
    "        if (isinstance(temp_vector_sum, csr_matrix)):\n",
    "            temp_vector_sum = temp_vector_sum.toarray()\n",
    "        elif (isinstance(temp_vector_sum, int)):\n",
    "            temp_vector_sum = np.zeros((1, document_term_matrix.shape[1]))\n",
    "        top_n_word_indices = np.flip(np.argsort(temp_vector_sum)[0][-n:],0)\n",
    "        top_word_indices.append(top_n_word_indices)   \n",
    "    top_words = []\n",
    "    for topic in top_word_indices:\n",
    "        topic_words = []\n",
    "        for index in topic:\n",
    "            temp_word_vector = np.zeros((1,document_term_matrix.shape[1]))\n",
    "            temp_word_vector[:,index] = 1\n",
    "            the_word = count_vectorizer.inverse_transform(temp_word_vector)[0][0]\n",
    "            #topic_words.append(the_word.encode('ascii').decode('utf-8'))\n",
    "            topic_words.append(the_word)\n",
    "        top_words.append(\" \".join(topic_words))         \n",
    "    return top_words"
   ]
  },
  {
   "cell_type": "code",
   "execution_count": 13,
   "metadata": {},
   "outputs": [
    {
     "output_type": "stream",
     "name": "stdout",
     "text": [
      "Topic 1:  fresenius report group management 2020 financial consolidated care business board\nTopic 2:  und der die siemens von zu wir auf mit den\nTopic 3:  group 2020 management employees gri report business climate energy sustainability\nTopic 4:  études equity equals equates equation equilibrium equinix equip equipment equipped\nTopic 5:  études equity equals equates equation equilibrium equinix equip equipment equipped\nTopic 6:  études equity equals equates equation equilibrium equinix equip equipment equipped\nTopic 7:  energy siemens business 2020 sustainability power report environmental company gas\nTopic 8:  basf 2020 water 2016 suppliers employees management global use products\nTopic 9:  études equity equals equates equation equilibrium equinix equip equipment equipped\nTopic 10:  études equity equals equates equation equilibrium equinix equip equipment equipped\nTopic 11:  group climate deutsche borse risks risk strategy sustainability business management\nTopic 12:  human rights statement uk limited business 2019 chain slavery supplier\nTopic 13:  études equity equals equates equation equilibrium equinix equip equipment equipped\nTopic 14:  études equity equals equates equation equilibrium equinix equip equipment equipped\nTopic 15:  études equity equals equates equation equilibrium equinix equip equipment equipped\nTopic 16:  études equity equals equates equation equilibrium equinix equip equipment equipped\nTopic 17:  études equity equals equates equation equilibrium equinix equip equipment equipped\n"
     ]
    }
   ],
   "source": [
    "top_n_words_lsa = get_top_n_words(10, lsa_keys, document_term_matrix, count_vectorizer)\n",
    "\n",
    "for i in range(len(top_n_words_lsa)):\n",
    "    print(\"Topic {}: \".format(i+1), top_n_words_lsa[i])"
   ]
  },
  {
   "cell_type": "code",
   "execution_count": 14,
   "metadata": {},
   "outputs": [
    {
     "output_type": "execute_result",
     "data": {
      "text/plain": [
       "0    eng\n",
       "1    deu\n",
       "Name: lang, dtype: object"
      ]
     },
     "metadata": {},
     "execution_count": 14
    }
   ],
   "source": [
    "lang = 'en'\n",
    "lang = pd.DataFrame({'lang': ['en','de']}, columns=['lang'])\n",
    "lang = lang.lang.map({'en':'eng', 'de':'deu'})\n",
    "lang"
   ]
  },
  {
   "cell_type": "code",
   "execution_count": null,
   "metadata": {},
   "outputs": [],
   "source": []
  }
 ]
}